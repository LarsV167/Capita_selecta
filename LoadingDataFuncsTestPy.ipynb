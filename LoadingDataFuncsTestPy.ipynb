{
 "cells": [
  {
   "cell_type": "code",
   "execution_count": 1,
   "id": "d651de10",
   "metadata": {},
   "outputs": [],
   "source": [
    "# Loading all needed packages at the start\n",
    "import elastix \n",
    "import imageio.v2 as imageio\n",
    "import matplotlib.pyplot as plt\n",
    "import os\n",
    "import SimpleITK as sitk\n",
    "import numpy as np\n",
    "import shutil\n",
    "\n",
    "from FunctionsImageRegistration import *\n"
   ]
  },
  {
   "cell_type": "markdown",
   "id": "574de3e3",
   "metadata": {},
   "source": [
    "## Fill in your own paths in the cell below ##"
   ]
  },
  {
   "cell_type": "code",
   "execution_count": 2,
   "id": "f5d91724",
   "metadata": {},
   "outputs": [],
   "source": [
    "# to Elastix.exe\n",
    "ELASTIX_PATH = 'C:/Users/20183303/Documents/Jaar 5 - ME/Q3/CS in medische beeldanalyse/Elastix files/Elastix.exe'\n",
    "el = elastix.ElastixInterface(elastix_path=ELASTIX_PATH)\n",
    "# to Transformix.exe\n",
    "TRANSFORMIX_PATH = 'C:/Users/20183303/Documents/Jaar 5 - ME/Q3/CS in medische beeldanalyse/Elastix files/Transformix.exe'\n",
    "# to TrainingData\n",
    "filepath_data = r'C:\\Users\\20183303\\Documents\\Jaar 5 - ME\\Q3\\CS in medische beeldanalyse\\Image Registration Assignment\\TrainingDataIR'\n"
   ]
  },
  {
   "cell_type": "markdown",
   "id": "110cea42",
   "metadata": {},
   "source": [
    "### Default settings\n"
   ]
  },
  {
   "cell_type": "code",
   "execution_count": 3,
   "id": "60ae52aa",
   "metadata": {},
   "outputs": [],
   "source": [
    "# default settings for MI computation\n",
    "plt.rcParams['image.cmap'] = 'gray'\n",
    "plt.rcParams['image.interpolation'] = 'nearest'\n"
   ]
  },
  {
   "cell_type": "markdown",
   "id": "38e61b11",
   "metadata": {},
   "source": [
    "#### TO DO: Test out hypothesis: does the nr of bins in the MI computation function ever influence the order of the highest MI values?"
   ]
  },
  {
   "cell_type": "markdown",
   "id": "94ff08b0",
   "metadata": {},
   "source": [
    "## Per manually selected fixed image, find the five most similar moving image slices and perform B-spline transformation on them:\n"
   ]
  },
  {
   "cell_type": "code",
   "execution_count": 4,
   "id": "d3d590a0",
   "metadata": {},
   "outputs": [
    {
     "name": "stdout",
     "output_type": "stream",
     "text": [
      "Patient selected as fixed image: p108\n",
      "Fixed image slice nr: 0\n",
      "Patient: p127 and slice nr: 5\n",
      "Patient: p127 and slice nr: 2\n",
      "Patient: p127 and slice nr: 1\n",
      "Patient: p127 and slice nr: 4\n",
      "Patient: p127 and slice nr: 3\n",
      "Done creating 2D arrays\n",
      "C:/Users/20183303/Documents/Jaar 5 - ME/Q3/CS in medische beeldanalyse/Elastix files/Elastix.exe -f C:\\Users\\20183303\\Documents\\Jaar 5 - ME\\Q3\\CS in medische beeldanalyse\\Image Registration Assignment\\TrainingDataIR\\p108\\p108_slice0.mhd -m C:\\Users\\20183303\\Documents\\Jaar 5 - ME\\Q3\\CS in medische beeldanalyse\\Image Registration Assignment\\TrainingDataIR\\p127\\p127_slice5.mhd -p C:\\Users\\20183303\\Documents\\Jaar 5 - ME\\Q3\\CS in medische beeldanalyse\\Image Registration Assignment\\TrainingDataIR\\parameters_penalty.txt -out C:\\Users\\20183303\\Documents\\Jaar 5 - ME\\Q3\\CS in medische beeldanalyse\\Image Registration Assignment\\TrainingDataIR\\p108\\bspline_results_slice_0\\moving_slice_p127_5\n",
      "Done performing B-splines for moving patient p127, slice 5\n",
      "C:/Users/20183303/Documents/Jaar 5 - ME/Q3/CS in medische beeldanalyse/Elastix files/Elastix.exe -f C:\\Users\\20183303\\Documents\\Jaar 5 - ME\\Q3\\CS in medische beeldanalyse\\Image Registration Assignment\\TrainingDataIR\\p108\\p108_slice0.mhd -m C:\\Users\\20183303\\Documents\\Jaar 5 - ME\\Q3\\CS in medische beeldanalyse\\Image Registration Assignment\\TrainingDataIR\\p127\\p127_slice2.mhd -p C:\\Users\\20183303\\Documents\\Jaar 5 - ME\\Q3\\CS in medische beeldanalyse\\Image Registration Assignment\\TrainingDataIR\\parameters_penalty.txt -out C:\\Users\\20183303\\Documents\\Jaar 5 - ME\\Q3\\CS in medische beeldanalyse\\Image Registration Assignment\\TrainingDataIR\\p108\\bspline_results_slice_0\\moving_slice_p127_2\n",
      "Done performing B-splines for moving patient p127, slice 2\n",
      "C:/Users/20183303/Documents/Jaar 5 - ME/Q3/CS in medische beeldanalyse/Elastix files/Elastix.exe -f C:\\Users\\20183303\\Documents\\Jaar 5 - ME\\Q3\\CS in medische beeldanalyse\\Image Registration Assignment\\TrainingDataIR\\p108\\p108_slice0.mhd -m C:\\Users\\20183303\\Documents\\Jaar 5 - ME\\Q3\\CS in medische beeldanalyse\\Image Registration Assignment\\TrainingDataIR\\p127\\p127_slice1.mhd -p C:\\Users\\20183303\\Documents\\Jaar 5 - ME\\Q3\\CS in medische beeldanalyse\\Image Registration Assignment\\TrainingDataIR\\parameters_penalty.txt -out C:\\Users\\20183303\\Documents\\Jaar 5 - ME\\Q3\\CS in medische beeldanalyse\\Image Registration Assignment\\TrainingDataIR\\p108\\bspline_results_slice_0\\moving_slice_p127_1\n",
      "Done performing B-splines for moving patient p127, slice 1\n",
      "C:/Users/20183303/Documents/Jaar 5 - ME/Q3/CS in medische beeldanalyse/Elastix files/Elastix.exe -f C:\\Users\\20183303\\Documents\\Jaar 5 - ME\\Q3\\CS in medische beeldanalyse\\Image Registration Assignment\\TrainingDataIR\\p108\\p108_slice0.mhd -m C:\\Users\\20183303\\Documents\\Jaar 5 - ME\\Q3\\CS in medische beeldanalyse\\Image Registration Assignment\\TrainingDataIR\\p127\\p127_slice4.mhd -p C:\\Users\\20183303\\Documents\\Jaar 5 - ME\\Q3\\CS in medische beeldanalyse\\Image Registration Assignment\\TrainingDataIR\\parameters_penalty.txt -out C:\\Users\\20183303\\Documents\\Jaar 5 - ME\\Q3\\CS in medische beeldanalyse\\Image Registration Assignment\\TrainingDataIR\\p108\\bspline_results_slice_0\\moving_slice_p127_4\n",
      "Done performing B-splines for moving patient p127, slice 4\n",
      "C:/Users/20183303/Documents/Jaar 5 - ME/Q3/CS in medische beeldanalyse/Elastix files/Elastix.exe -f C:\\Users\\20183303\\Documents\\Jaar 5 - ME\\Q3\\CS in medische beeldanalyse\\Image Registration Assignment\\TrainingDataIR\\p108\\p108_slice0.mhd -m C:\\Users\\20183303\\Documents\\Jaar 5 - ME\\Q3\\CS in medische beeldanalyse\\Image Registration Assignment\\TrainingDataIR\\p127\\p127_slice3.mhd -p C:\\Users\\20183303\\Documents\\Jaar 5 - ME\\Q3\\CS in medische beeldanalyse\\Image Registration Assignment\\TrainingDataIR\\parameters_penalty.txt -out C:\\Users\\20183303\\Documents\\Jaar 5 - ME\\Q3\\CS in medische beeldanalyse\\Image Registration Assignment\\TrainingDataIR\\p108\\bspline_results_slice_0\\moving_slice_p127_3\n",
      "Done performing B-splines for moving patient p127, slice 3\n",
      "Fixed image slice nr: 1\n",
      "Patient: p127 and slice nr: 5\n",
      "Patient: p127 and slice nr: 4\n",
      "Patient: p127 and slice nr: 6\n",
      "Patient: p127 and slice nr: 2\n",
      "Patient: p127 and slice nr: 1\n",
      "Done creating 2D arrays\n",
      "C:/Users/20183303/Documents/Jaar 5 - ME/Q3/CS in medische beeldanalyse/Elastix files/Elastix.exe -f C:\\Users\\20183303\\Documents\\Jaar 5 - ME\\Q3\\CS in medische beeldanalyse\\Image Registration Assignment\\TrainingDataIR\\p108\\p108_slice1.mhd -m C:\\Users\\20183303\\Documents\\Jaar 5 - ME\\Q3\\CS in medische beeldanalyse\\Image Registration Assignment\\TrainingDataIR\\p127\\p127_slice5.mhd -p C:\\Users\\20183303\\Documents\\Jaar 5 - ME\\Q3\\CS in medische beeldanalyse\\Image Registration Assignment\\TrainingDataIR\\parameters_penalty.txt -out C:\\Users\\20183303\\Documents\\Jaar 5 - ME\\Q3\\CS in medische beeldanalyse\\Image Registration Assignment\\TrainingDataIR\\p108\\bspline_results_slice_1\\moving_slice_p127_5\n",
      "Done performing B-splines for moving patient p127, slice 5\n",
      "C:/Users/20183303/Documents/Jaar 5 - ME/Q3/CS in medische beeldanalyse/Elastix files/Elastix.exe -f C:\\Users\\20183303\\Documents\\Jaar 5 - ME\\Q3\\CS in medische beeldanalyse\\Image Registration Assignment\\TrainingDataIR\\p108\\p108_slice1.mhd -m C:\\Users\\20183303\\Documents\\Jaar 5 - ME\\Q3\\CS in medische beeldanalyse\\Image Registration Assignment\\TrainingDataIR\\p127\\p127_slice4.mhd -p C:\\Users\\20183303\\Documents\\Jaar 5 - ME\\Q3\\CS in medische beeldanalyse\\Image Registration Assignment\\TrainingDataIR\\parameters_penalty.txt -out C:\\Users\\20183303\\Documents\\Jaar 5 - ME\\Q3\\CS in medische beeldanalyse\\Image Registration Assignment\\TrainingDataIR\\p108\\bspline_results_slice_1\\moving_slice_p127_4\n",
      "Done performing B-splines for moving patient p127, slice 4\n",
      "C:/Users/20183303/Documents/Jaar 5 - ME/Q3/CS in medische beeldanalyse/Elastix files/Elastix.exe -f C:\\Users\\20183303\\Documents\\Jaar 5 - ME\\Q3\\CS in medische beeldanalyse\\Image Registration Assignment\\TrainingDataIR\\p108\\p108_slice1.mhd -m C:\\Users\\20183303\\Documents\\Jaar 5 - ME\\Q3\\CS in medische beeldanalyse\\Image Registration Assignment\\TrainingDataIR\\p127\\p127_slice6.mhd -p C:\\Users\\20183303\\Documents\\Jaar 5 - ME\\Q3\\CS in medische beeldanalyse\\Image Registration Assignment\\TrainingDataIR\\parameters_penalty.txt -out C:\\Users\\20183303\\Documents\\Jaar 5 - ME\\Q3\\CS in medische beeldanalyse\\Image Registration Assignment\\TrainingDataIR\\p108\\bspline_results_slice_1\\moving_slice_p127_6\n",
      "Done performing B-splines for moving patient p127, slice 6\n",
      "C:/Users/20183303/Documents/Jaar 5 - ME/Q3/CS in medische beeldanalyse/Elastix files/Elastix.exe -f C:\\Users\\20183303\\Documents\\Jaar 5 - ME\\Q3\\CS in medische beeldanalyse\\Image Registration Assignment\\TrainingDataIR\\p108\\p108_slice1.mhd -m C:\\Users\\20183303\\Documents\\Jaar 5 - ME\\Q3\\CS in medische beeldanalyse\\Image Registration Assignment\\TrainingDataIR\\p127\\p127_slice2.mhd -p C:\\Users\\20183303\\Documents\\Jaar 5 - ME\\Q3\\CS in medische beeldanalyse\\Image Registration Assignment\\TrainingDataIR\\parameters_penalty.txt -out C:\\Users\\20183303\\Documents\\Jaar 5 - ME\\Q3\\CS in medische beeldanalyse\\Image Registration Assignment\\TrainingDataIR\\p108\\bspline_results_slice_1\\moving_slice_p127_2\n",
      "Done performing B-splines for moving patient p127, slice 2\n",
      "C:/Users/20183303/Documents/Jaar 5 - ME/Q3/CS in medische beeldanalyse/Elastix files/Elastix.exe -f C:\\Users\\20183303\\Documents\\Jaar 5 - ME\\Q3\\CS in medische beeldanalyse\\Image Registration Assignment\\TrainingDataIR\\p108\\p108_slice1.mhd -m C:\\Users\\20183303\\Documents\\Jaar 5 - ME\\Q3\\CS in medische beeldanalyse\\Image Registration Assignment\\TrainingDataIR\\p127\\p127_slice1.mhd -p C:\\Users\\20183303\\Documents\\Jaar 5 - ME\\Q3\\CS in medische beeldanalyse\\Image Registration Assignment\\TrainingDataIR\\parameters_penalty.txt -out C:\\Users\\20183303\\Documents\\Jaar 5 - ME\\Q3\\CS in medische beeldanalyse\\Image Registration Assignment\\TrainingDataIR\\p108\\bspline_results_slice_1\\moving_slice_p127_1\n",
      "Done performing B-splines for moving patient p127, slice 1\n",
      "Fixed image slice nr: 2\n",
      "Patient: p127 and slice nr: 5\n",
      "Patient: p127 and slice nr: 4\n",
      "Patient: p127 and slice nr: 2\n",
      "Patient: p127 and slice nr: 3\n",
      "Patient: p127 and slice nr: 6\n",
      "Done creating 2D arrays\n",
      "C:/Users/20183303/Documents/Jaar 5 - ME/Q3/CS in medische beeldanalyse/Elastix files/Elastix.exe -f C:\\Users\\20183303\\Documents\\Jaar 5 - ME\\Q3\\CS in medische beeldanalyse\\Image Registration Assignment\\TrainingDataIR\\p108\\p108_slice2.mhd -m C:\\Users\\20183303\\Documents\\Jaar 5 - ME\\Q3\\CS in medische beeldanalyse\\Image Registration Assignment\\TrainingDataIR\\p127\\p127_slice5.mhd -p C:\\Users\\20183303\\Documents\\Jaar 5 - ME\\Q3\\CS in medische beeldanalyse\\Image Registration Assignment\\TrainingDataIR\\parameters_penalty.txt -out C:\\Users\\20183303\\Documents\\Jaar 5 - ME\\Q3\\CS in medische beeldanalyse\\Image Registration Assignment\\TrainingDataIR\\p108\\bspline_results_slice_2\\moving_slice_p127_5\n"
     ]
    },
    {
     "name": "stdout",
     "output_type": "stream",
     "text": [
      "Done performing B-splines for moving patient p127, slice 5\n",
      "C:/Users/20183303/Documents/Jaar 5 - ME/Q3/CS in medische beeldanalyse/Elastix files/Elastix.exe -f C:\\Users\\20183303\\Documents\\Jaar 5 - ME\\Q3\\CS in medische beeldanalyse\\Image Registration Assignment\\TrainingDataIR\\p108\\p108_slice2.mhd -m C:\\Users\\20183303\\Documents\\Jaar 5 - ME\\Q3\\CS in medische beeldanalyse\\Image Registration Assignment\\TrainingDataIR\\p127\\p127_slice4.mhd -p C:\\Users\\20183303\\Documents\\Jaar 5 - ME\\Q3\\CS in medische beeldanalyse\\Image Registration Assignment\\TrainingDataIR\\parameters_penalty.txt -out C:\\Users\\20183303\\Documents\\Jaar 5 - ME\\Q3\\CS in medische beeldanalyse\\Image Registration Assignment\\TrainingDataIR\\p108\\bspline_results_slice_2\\moving_slice_p127_4\n",
      "Done performing B-splines for moving patient p127, slice 4\n",
      "C:/Users/20183303/Documents/Jaar 5 - ME/Q3/CS in medische beeldanalyse/Elastix files/Elastix.exe -f C:\\Users\\20183303\\Documents\\Jaar 5 - ME\\Q3\\CS in medische beeldanalyse\\Image Registration Assignment\\TrainingDataIR\\p108\\p108_slice2.mhd -m C:\\Users\\20183303\\Documents\\Jaar 5 - ME\\Q3\\CS in medische beeldanalyse\\Image Registration Assignment\\TrainingDataIR\\p127\\p127_slice2.mhd -p C:\\Users\\20183303\\Documents\\Jaar 5 - ME\\Q3\\CS in medische beeldanalyse\\Image Registration Assignment\\TrainingDataIR\\parameters_penalty.txt -out C:\\Users\\20183303\\Documents\\Jaar 5 - ME\\Q3\\CS in medische beeldanalyse\\Image Registration Assignment\\TrainingDataIR\\p108\\bspline_results_slice_2\\moving_slice_p127_2\n",
      "Done performing B-splines for moving patient p127, slice 2\n",
      "C:/Users/20183303/Documents/Jaar 5 - ME/Q3/CS in medische beeldanalyse/Elastix files/Elastix.exe -f C:\\Users\\20183303\\Documents\\Jaar 5 - ME\\Q3\\CS in medische beeldanalyse\\Image Registration Assignment\\TrainingDataIR\\p108\\p108_slice2.mhd -m C:\\Users\\20183303\\Documents\\Jaar 5 - ME\\Q3\\CS in medische beeldanalyse\\Image Registration Assignment\\TrainingDataIR\\p127\\p127_slice3.mhd -p C:\\Users\\20183303\\Documents\\Jaar 5 - ME\\Q3\\CS in medische beeldanalyse\\Image Registration Assignment\\TrainingDataIR\\parameters_penalty.txt -out C:\\Users\\20183303\\Documents\\Jaar 5 - ME\\Q3\\CS in medische beeldanalyse\\Image Registration Assignment\\TrainingDataIR\\p108\\bspline_results_slice_2\\moving_slice_p127_3\n",
      "Done performing B-splines for moving patient p127, slice 3\n",
      "C:/Users/20183303/Documents/Jaar 5 - ME/Q3/CS in medische beeldanalyse/Elastix files/Elastix.exe -f C:\\Users\\20183303\\Documents\\Jaar 5 - ME\\Q3\\CS in medische beeldanalyse\\Image Registration Assignment\\TrainingDataIR\\p108\\p108_slice2.mhd -m C:\\Users\\20183303\\Documents\\Jaar 5 - ME\\Q3\\CS in medische beeldanalyse\\Image Registration Assignment\\TrainingDataIR\\p127\\p127_slice6.mhd -p C:\\Users\\20183303\\Documents\\Jaar 5 - ME\\Q3\\CS in medische beeldanalyse\\Image Registration Assignment\\TrainingDataIR\\parameters_penalty.txt -out C:\\Users\\20183303\\Documents\\Jaar 5 - ME\\Q3\\CS in medische beeldanalyse\\Image Registration Assignment\\TrainingDataIR\\p108\\bspline_results_slice_2\\moving_slice_p127_6\n",
      "Done performing B-splines for moving patient p127, slice 6\n",
      "Fixed image slice nr: 3\n",
      "Patient: p127 and slice nr: 2\n",
      "Patient: p127 and slice nr: 5\n",
      "Patient: p127 and slice nr: 3\n",
      "Patient: p127 and slice nr: 4\n",
      "Patient: p127 and slice nr: 1\n",
      "Done creating 2D arrays\n",
      "C:/Users/20183303/Documents/Jaar 5 - ME/Q3/CS in medische beeldanalyse/Elastix files/Elastix.exe -f C:\\Users\\20183303\\Documents\\Jaar 5 - ME\\Q3\\CS in medische beeldanalyse\\Image Registration Assignment\\TrainingDataIR\\p108\\p108_slice3.mhd -m C:\\Users\\20183303\\Documents\\Jaar 5 - ME\\Q3\\CS in medische beeldanalyse\\Image Registration Assignment\\TrainingDataIR\\p127\\p127_slice2.mhd -p C:\\Users\\20183303\\Documents\\Jaar 5 - ME\\Q3\\CS in medische beeldanalyse\\Image Registration Assignment\\TrainingDataIR\\parameters_penalty.txt -out C:\\Users\\20183303\\Documents\\Jaar 5 - ME\\Q3\\CS in medische beeldanalyse\\Image Registration Assignment\\TrainingDataIR\\p108\\bspline_results_slice_3\\moving_slice_p127_2\n",
      "Done performing B-splines for moving patient p127, slice 2\n",
      "C:/Users/20183303/Documents/Jaar 5 - ME/Q3/CS in medische beeldanalyse/Elastix files/Elastix.exe -f C:\\Users\\20183303\\Documents\\Jaar 5 - ME\\Q3\\CS in medische beeldanalyse\\Image Registration Assignment\\TrainingDataIR\\p108\\p108_slice3.mhd -m C:\\Users\\20183303\\Documents\\Jaar 5 - ME\\Q3\\CS in medische beeldanalyse\\Image Registration Assignment\\TrainingDataIR\\p127\\p127_slice5.mhd -p C:\\Users\\20183303\\Documents\\Jaar 5 - ME\\Q3\\CS in medische beeldanalyse\\Image Registration Assignment\\TrainingDataIR\\parameters_penalty.txt -out C:\\Users\\20183303\\Documents\\Jaar 5 - ME\\Q3\\CS in medische beeldanalyse\\Image Registration Assignment\\TrainingDataIR\\p108\\bspline_results_slice_3\\moving_slice_p127_5\n",
      "Done performing B-splines for moving patient p127, slice 5\n",
      "C:/Users/20183303/Documents/Jaar 5 - ME/Q3/CS in medische beeldanalyse/Elastix files/Elastix.exe -f C:\\Users\\20183303\\Documents\\Jaar 5 - ME\\Q3\\CS in medische beeldanalyse\\Image Registration Assignment\\TrainingDataIR\\p108\\p108_slice3.mhd -m C:\\Users\\20183303\\Documents\\Jaar 5 - ME\\Q3\\CS in medische beeldanalyse\\Image Registration Assignment\\TrainingDataIR\\p127\\p127_slice3.mhd -p C:\\Users\\20183303\\Documents\\Jaar 5 - ME\\Q3\\CS in medische beeldanalyse\\Image Registration Assignment\\TrainingDataIR\\parameters_penalty.txt -out C:\\Users\\20183303\\Documents\\Jaar 5 - ME\\Q3\\CS in medische beeldanalyse\\Image Registration Assignment\\TrainingDataIR\\p108\\bspline_results_slice_3\\moving_slice_p127_3\n",
      "Done performing B-splines for moving patient p127, slice 3\n",
      "C:/Users/20183303/Documents/Jaar 5 - ME/Q3/CS in medische beeldanalyse/Elastix files/Elastix.exe -f C:\\Users\\20183303\\Documents\\Jaar 5 - ME\\Q3\\CS in medische beeldanalyse\\Image Registration Assignment\\TrainingDataIR\\p108\\p108_slice3.mhd -m C:\\Users\\20183303\\Documents\\Jaar 5 - ME\\Q3\\CS in medische beeldanalyse\\Image Registration Assignment\\TrainingDataIR\\p127\\p127_slice4.mhd -p C:\\Users\\20183303\\Documents\\Jaar 5 - ME\\Q3\\CS in medische beeldanalyse\\Image Registration Assignment\\TrainingDataIR\\parameters_penalty.txt -out C:\\Users\\20183303\\Documents\\Jaar 5 - ME\\Q3\\CS in medische beeldanalyse\\Image Registration Assignment\\TrainingDataIR\\p108\\bspline_results_slice_3\\moving_slice_p127_4\n",
      "Done performing B-splines for moving patient p127, slice 4\n",
      "C:/Users/20183303/Documents/Jaar 5 - ME/Q3/CS in medische beeldanalyse/Elastix files/Elastix.exe -f C:\\Users\\20183303\\Documents\\Jaar 5 - ME\\Q3\\CS in medische beeldanalyse\\Image Registration Assignment\\TrainingDataIR\\p108\\p108_slice3.mhd -m C:\\Users\\20183303\\Documents\\Jaar 5 - ME\\Q3\\CS in medische beeldanalyse\\Image Registration Assignment\\TrainingDataIR\\p127\\p127_slice1.mhd -p C:\\Users\\20183303\\Documents\\Jaar 5 - ME\\Q3\\CS in medische beeldanalyse\\Image Registration Assignment\\TrainingDataIR\\parameters_penalty.txt -out C:\\Users\\20183303\\Documents\\Jaar 5 - ME\\Q3\\CS in medische beeldanalyse\\Image Registration Assignment\\TrainingDataIR\\p108\\bspline_results_slice_3\\moving_slice_p127_1\n",
      "Done performing B-splines for moving patient p127, slice 1\n",
      "Fixed image slice nr: 4\n",
      "Patient: p127 and slice nr: 2\n",
      "Patient: p127 and slice nr: 1\n",
      "Patient: p127 and slice nr: 3\n",
      "Patient: p127 and slice nr: 4\n",
      "Patient: p127 and slice nr: 5\n",
      "Done creating 2D arrays\n",
      "C:/Users/20183303/Documents/Jaar 5 - ME/Q3/CS in medische beeldanalyse/Elastix files/Elastix.exe -f C:\\Users\\20183303\\Documents\\Jaar 5 - ME\\Q3\\CS in medische beeldanalyse\\Image Registration Assignment\\TrainingDataIR\\p108\\p108_slice4.mhd -m C:\\Users\\20183303\\Documents\\Jaar 5 - ME\\Q3\\CS in medische beeldanalyse\\Image Registration Assignment\\TrainingDataIR\\p127\\p127_slice2.mhd -p C:\\Users\\20183303\\Documents\\Jaar 5 - ME\\Q3\\CS in medische beeldanalyse\\Image Registration Assignment\\TrainingDataIR\\parameters_penalty.txt -out C:\\Users\\20183303\\Documents\\Jaar 5 - ME\\Q3\\CS in medische beeldanalyse\\Image Registration Assignment\\TrainingDataIR\\p108\\bspline_results_slice_4\\moving_slice_p127_2\n",
      "Done performing B-splines for moving patient p127, slice 2\n",
      "C:/Users/20183303/Documents/Jaar 5 - ME/Q3/CS in medische beeldanalyse/Elastix files/Elastix.exe -f C:\\Users\\20183303\\Documents\\Jaar 5 - ME\\Q3\\CS in medische beeldanalyse\\Image Registration Assignment\\TrainingDataIR\\p108\\p108_slice4.mhd -m C:\\Users\\20183303\\Documents\\Jaar 5 - ME\\Q3\\CS in medische beeldanalyse\\Image Registration Assignment\\TrainingDataIR\\p127\\p127_slice1.mhd -p C:\\Users\\20183303\\Documents\\Jaar 5 - ME\\Q3\\CS in medische beeldanalyse\\Image Registration Assignment\\TrainingDataIR\\parameters_penalty.txt -out C:\\Users\\20183303\\Documents\\Jaar 5 - ME\\Q3\\CS in medische beeldanalyse\\Image Registration Assignment\\TrainingDataIR\\p108\\bspline_results_slice_4\\moving_slice_p127_1\n"
     ]
    },
    {
     "name": "stdout",
     "output_type": "stream",
     "text": [
      "Done performing B-splines for moving patient p127, slice 1\n",
      "C:/Users/20183303/Documents/Jaar 5 - ME/Q3/CS in medische beeldanalyse/Elastix files/Elastix.exe -f C:\\Users\\20183303\\Documents\\Jaar 5 - ME\\Q3\\CS in medische beeldanalyse\\Image Registration Assignment\\TrainingDataIR\\p108\\p108_slice4.mhd -m C:\\Users\\20183303\\Documents\\Jaar 5 - ME\\Q3\\CS in medische beeldanalyse\\Image Registration Assignment\\TrainingDataIR\\p127\\p127_slice3.mhd -p C:\\Users\\20183303\\Documents\\Jaar 5 - ME\\Q3\\CS in medische beeldanalyse\\Image Registration Assignment\\TrainingDataIR\\parameters_penalty.txt -out C:\\Users\\20183303\\Documents\\Jaar 5 - ME\\Q3\\CS in medische beeldanalyse\\Image Registration Assignment\\TrainingDataIR\\p108\\bspline_results_slice_4\\moving_slice_p127_3\n",
      "Done performing B-splines for moving patient p127, slice 3\n",
      "C:/Users/20183303/Documents/Jaar 5 - ME/Q3/CS in medische beeldanalyse/Elastix files/Elastix.exe -f C:\\Users\\20183303\\Documents\\Jaar 5 - ME\\Q3\\CS in medische beeldanalyse\\Image Registration Assignment\\TrainingDataIR\\p108\\p108_slice4.mhd -m C:\\Users\\20183303\\Documents\\Jaar 5 - ME\\Q3\\CS in medische beeldanalyse\\Image Registration Assignment\\TrainingDataIR\\p127\\p127_slice4.mhd -p C:\\Users\\20183303\\Documents\\Jaar 5 - ME\\Q3\\CS in medische beeldanalyse\\Image Registration Assignment\\TrainingDataIR\\parameters_penalty.txt -out C:\\Users\\20183303\\Documents\\Jaar 5 - ME\\Q3\\CS in medische beeldanalyse\\Image Registration Assignment\\TrainingDataIR\\p108\\bspline_results_slice_4\\moving_slice_p127_4\n",
      "Done performing B-splines for moving patient p127, slice 4\n",
      "C:/Users/20183303/Documents/Jaar 5 - ME/Q3/CS in medische beeldanalyse/Elastix files/Elastix.exe -f C:\\Users\\20183303\\Documents\\Jaar 5 - ME\\Q3\\CS in medische beeldanalyse\\Image Registration Assignment\\TrainingDataIR\\p108\\p108_slice4.mhd -m C:\\Users\\20183303\\Documents\\Jaar 5 - ME\\Q3\\CS in medische beeldanalyse\\Image Registration Assignment\\TrainingDataIR\\p127\\p127_slice5.mhd -p C:\\Users\\20183303\\Documents\\Jaar 5 - ME\\Q3\\CS in medische beeldanalyse\\Image Registration Assignment\\TrainingDataIR\\parameters_penalty.txt -out C:\\Users\\20183303\\Documents\\Jaar 5 - ME\\Q3\\CS in medische beeldanalyse\\Image Registration Assignment\\TrainingDataIR\\p108\\bspline_results_slice_4\\moving_slice_p127_5\n",
      "Done performing B-splines for moving patient p127, slice 5\n"
     ]
    }
   ],
   "source": [
    "# Test set containing p119, p128, and p135 are left out!\n",
    "\n",
    "patient_nrs_list = ['p102','p107', 'p108', 'p109', 'p115', 'p116', 'p117', 'p120', 'p125', 'p127', 'p129', 'p133']\n",
    "#                    0      1       2       3       4       5       6       7       8       9       10      11       \n",
    "\n",
    "# load all 12 patients' data (every 3D array) in one list, which has the same order as 'patient_nrs_list'\n",
    "loaded_mr_list = []\n",
    "for value in patient_nrs_list:\n",
    "    loaded_mr, __ = loadPatientDataReadable(value, filepath=filepath_data)\n",
    "    loaded_mr_list.append(loaded_mr)\n",
    "      \n",
    "# select (for now manually) which image is currently your fixed image -- # Enter image level of one fixed image\n",
    "fixed_image_index = 5 # index in patient_nrs_list\n",
    "patient_id_fixed_image = patient_nrs_list[fixed_image_index] # patient ID (for example 'p102') of fixed image\n",
    "fixed_image_path = filepath_data+ '\\{}\\mr_bffe.mhd'.format(patient_id_fixed_image) # path to fixed image\n",
    "\n",
    "print('Patient selected as fixed image:', patient_id_fixed_image)\n",
    "\n",
    "# select all but fixed image to use as moving image\n",
    "train_mr_list_moving = []\n",
    "for j in loaded_mr_list:\n",
    "    train_mr_list_moving.append(j)\n",
    "    \n",
    "fixed_image_mr = train_mr_list_moving.pop(fixed_image_index) # 3D array of fixed image\n",
    "\n",
    "# # # # Enter slice iterator of fixed image # # # # \n",
    "\n",
    "for image_slice_fixed in range(4): # when everything works: use 86. When everything is still being tested: keep it simple with 4. \n",
    "    \n",
    "    print('Fixed image slice nr:', image_slice_fixed)\n",
    "\n",
    "    list_of_list_MI, list_moving_slices_used = allMImovingImages(train_mr_list_moving, image_slice_fixed, fixed_image_mr)\n",
    "\n",
    "    per_patient_per_slice_MI = intoOneList(list_of_list_MI)\n",
    "\n",
    "    most_similar_list_index = sort_index(per_patient_per_slice_MI)[:5] # Get the five most similar images of all moving images\n",
    "    #print(most_similar_list_index)\n",
    "\n",
    "    patient_ids_similar = []\n",
    "    slice_ids_similar = []\n",
    "    for j in most_similar_list_index:\n",
    "        patient_index_a, actual_slice_nr_a = getPatientAndSlice(j, list_moving_slices_used, train_mr_list_moving, patient_nrs_list)\n",
    "        patient_ids_similar.append(patient_nrs_list[patient_index_a])\n",
    "        slice_ids_similar.append(actual_slice_nr_a)\n",
    "\n",
    "    # # # # Generate 2D arrays for all patients that will be transformed # # # #\n",
    "    \n",
    "    # maybe add if-statement in here so arrays are only created if they do not exist already\n",
    "    \n",
    "    # # # # Enter slice iterator of moving images # # # #\n",
    "    for moving_image_top_five in range(len(patient_ids_similar)):\n",
    "        patient_id_moving_image = patient_ids_similar[moving_image_top_five]\n",
    "        moving_image_path = filepath_data+ '\\{}\\mr_bffe.mhd'.format(patient_id_moving_image)\n",
    "        create2DImages(fixed_image_path, moving_image_path, patient_id_fixed_image, patient_id_moving_image, filepath_data)\n",
    "\n",
    "    print('Done creating 2D arrays')\n",
    "    \n",
    "    # Perform B-spline registration for each most similar slice and store the results\n",
    "    # # # # Enter iterator for most similar slices (paired with correct patient) # # # #\n",
    "    for work_down_list in range(len(patient_ids_similar)): # 0 to 5\n",
    "        bspline_registration(patient_id_fixed_image, patient_ids_similar[work_down_list], image_slice_fixed, slice_ids_similar[work_down_list], filepath_data, el_path=el)\n",
    "        \n",
    "    ### You probably want to continue on this level: the slice level of the fixed images. \n",
    "    ### Now you have the five transformations that need to be combined with STAPLE.\n",
    "    \n",
    "# Continue with visualisation of B-spline transformation, STAPLE, Jacobian, transformation onto masks, and finally evaluation metrics."
   ]
  },
  {
   "cell_type": "code",
   "execution_count": null,
   "id": "60443f3d",
   "metadata": {},
   "outputs": [],
   "source": []
  }
 ],
 "metadata": {
  "kernelspec": {
   "display_name": "Python 3 (ipykernel)",
   "language": "python",
   "name": "python3"
  },
  "language_info": {
   "codemirror_mode": {
    "name": "ipython",
    "version": 3
   },
   "file_extension": ".py",
   "mimetype": "text/x-python",
   "name": "python",
   "nbconvert_exporter": "python",
   "pygments_lexer": "ipython3",
   "version": "3.10.9"
  }
 },
 "nbformat": 4,
 "nbformat_minor": 5
}
