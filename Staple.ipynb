{
 "cells": [
  {
   "cell_type": "code",
   "execution_count": 3,
   "metadata": {},
   "outputs": [],
   "source": [
    "import SimpleITK as sitk \n",
    "import imageio.v2 as imageio\n",
    "import matplotlib.pyplot as plt\n",
    "import os\n",
    "import numpy as np\n"
   ]
  },
  {
   "cell_type": "code",
   "execution_count": 32,
   "metadata": {},
   "outputs": [],
   "source": [
    "\n",
    "\n",
    "\n",
    "def Atlas(patient_list=[],data_paths='path',slices=[]):\n",
    "    segs=['seg_0','seg_1','seg_2','seg_3','seg_4']\n",
    "    seg_data=[]\n",
    "    for i in range(len(patient_list)):\n",
    "        file_p_mask = data_paths+'\\{}\\prostaat.mhd'.format(patient_list[i])\n",
    "        print(file_p_mask)\n",
    "        readable_mask=imageio.imread(file_p_mask)\n",
    "        readable_mask=readable_mask[slices[i],:,:]\n",
    "        segs[i]= readable_mask\n",
    "        seg_data.append(segs[i])\n",
    "    \n",
    "    segs_itk=['seg0_itk','seg1_itk','seg2_itk','seg3_itk','seg4_itk']\n",
    "\n",
    "    seg_stack=[]\n",
    "    for i in range(len(segs)):\n",
    "         segs_itk[i]= sitk.GetImageFromArray(seg_data[i].astype(np.int16))\n",
    "         seg_stack.append(segs_itk[i])\n",
    "\n",
    "\n",
    "# Run STAPLE algorithm\n",
    "    STAPLE_seg_sitk = sitk.STAPLE(seg_stack,1, 1.0)# 1.0 specifies the foreground value\n",
    "\n",
    "\n",
    "# convert back to numpy array\n",
    "    STAPLE_seg = sitk.GetArrayFromImage(STAPLE_seg_sitk)\n",
    "\n",
    "    for i in range(STAPLE_seg.shape[0]):\n",
    "        for j in range(STAPLE_seg.shape[1]):\n",
    "            if STAPLE_seg[i,j]<0.5:\n",
    "                STAPLE_seg[i,j]=0\n",
    "            else:\n",
    "                STAPLE_seg[i,j]=1\n",
    "    return STAPLE_seg"
   ]
  },
  {
   "cell_type": "code",
   "execution_count": 42,
   "metadata": {},
   "outputs": [
    {
     "name": "stdout",
     "output_type": "stream",
     "text": [
      "C:\\Users\\20181758\\Documents\\master\\Q3\\capita\\TrainingData\\TrainingData\\p107\\prostaat.mhd\n",
      "C:\\Users\\20181758\\Documents\\master\\Q3\\capita\\TrainingData\\TrainingData\\p107\\prostaat.mhd\n",
      "C:\\Users\\20181758\\Documents\\master\\Q3\\capita\\TrainingData\\TrainingData\\p107\\prostaat.mhd\n",
      "C:\\Users\\20181758\\Documents\\master\\Q3\\capita\\TrainingData\\TrainingData\\p107\\prostaat.mhd\n",
      "C:\\Users\\20181758\\Documents\\master\\Q3\\capita\\TrainingData\\TrainingData\\p107\\prostaat.mhd\n"
     ]
    }
   ],
   "source": [
    "patient_list=['p107','p107','p107','p107', 'p107']\n",
    "data_path=r'C:\\Users\\20181758\\Documents\\master\\Q3\\capita\\TrainingData\\TrainingData'\n",
    "slices=[34,42,39,33,45]\n",
    "\n",
    "multi_atlas=Atlas(patient_list,data_path,slices)\n",
    "\n"
   ]
  },
  {
   "cell_type": "code",
   "execution_count": 43,
   "metadata": {},
   "outputs": [
    {
     "data": {
      "text/plain": [
       "<matplotlib.image.AxesImage at 0x1d0ac71fcd0>"
      ]
     },
     "execution_count": 43,
     "metadata": {},
     "output_type": "execute_result"
    },
    {
     "data": {
      "image/png": "[encoded data removed]",
      "text/plain": [
       "<Figure size 640x480 with 1 Axes>"
      ]
     },
     "metadata": {},
     "output_type": "display_data"
    }
   ],
   "source": [
    "plt.imshow(multi_atlas,cmap='gray')"
   ]
  },
  {
   "cell_type": "code",
   "execution_count": 44,
   "metadata": {},
   "outputs": [
    {
     "data": {
      "text/plain": [
       "<matplotlib.image.AxesImage at 0x1d0ac766c80>"
      ]
     },
     "execution_count": 44,
     "metadata": {},
     "output_type": "execute_result"
    },
    {
     "data": {
      "image/png": "[encoded data removed]",
      "text/plain": [
       "<Figure size 1000x1000 with 5 Axes>"
      ]
     },
     "metadata": {},
     "output_type": "display_data"
    }
   ],
   "source": [
    "data_path=r'C:\\Users\\20181758\\Documents\\master\\Q3\\capita\\TrainingData\\TrainingData\\p107\\prostaat.mhd'\n",
    "im=imageio.imread(data_path)\n",
    "\n",
    "fig,ax=plt.subplots(1,5,figsize=(10,10))\n",
    "\n",
    "ax[0].imshow(im[34,:,:],cmap='gray')\n",
    "ax[1].imshow(im[42,:,:],cmap='gray')\n",
    "ax[2].imshow(im[39,:,:],cmap='gray')\n",
    "ax[3].imshow(im[33,:,:],cmap='gray')\n",
    "ax[4].imshow(im[45,:,:],cmap='gray')"
   ]
  },
  {
   "cell_type": "code",
   "execution_count": null,
   "metadata": {},
   "outputs": [],
   "source": []
  }
 ],
 "metadata": {
  "kernelspec": {
   "display_name": "8DM20",
   "language": "python",
   "name": "python3"
  },
  "language_info": {
   "codemirror_mode": {
    "name": "ipython",
    "version": 3
   },
   "file_extension": ".py",
   "mimetype": "text/x-python",
   "name": "python",
   "nbconvert_exporter": "python",
   "pygments_lexer": "ipython3",
   "version": "3.10.9"
  },
  "orig_nbformat": 4
 },
 "nbformat": 4,
 "nbformat_minor": 2
}
