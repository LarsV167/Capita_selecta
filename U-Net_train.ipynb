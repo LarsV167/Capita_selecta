{
 "cells": [
  {
   "cell_type": "code",
   "execution_count": 1,
   "id": "93fce450",
   "metadata": {},
   "outputs": [
    {
     "name": "stdout",
     "output_type": "stream",
     "text": [
      "cpu\n"
     ]
    }
   ],
   "source": [
    "%load_ext tensorboard\n",
    "\n",
    "import random\n",
    "from pathlib import Path\n",
    "import glob\n",
    "import os\n",
    "from tqdm import tqdm\n",
    "import numpy as np\n",
    "import pdb\n",
    "import time\n",
    "\n",
    "\n",
    "import torch\n",
    "from torch import nn\n",
    "import torchvision as TV\n",
    "import torch.nn.functional as F\n",
    "import torchvision.transforms as T\n",
    "from torch.nn import UpsamplingNearest2d\n",
    "from torch.nn.utils import spectral_norm\n",
    "from torch.distributions import Normal\n",
    "from torch.utils.data import DataLoader\n",
    "from torchvision.utils import make_grid\n",
    "import torch.optim as optim\n",
    "from torch.utils.tensorboard import SummaryWriter\n",
    "from torchvision.io import read_image\n",
    "from torchvision.models import resnet50, ResNet50_Weights\n",
    "\n",
    "\n",
    "import utils\n",
    "import vae\n",
    "import u_net\n",
    "\n",
    "path_data=r\"C:\\Users\\pauli\\Desktop\\UNI\\UTRECHT\\3RD PERIOD COURSES\\CAPITA_SELECTA\\group project\\TrainingData\\TrainingData\"\n",
    "\n",
    "\n",
    "device = torch.device(\"cuda\" if torch.cuda.is_available() else \"cpu\")\n",
    "print(device) #Device used: using GPU will significantly speed up the training.\n"
   ]
  },
  {
   "cell_type": "markdown",
   "id": "7d3c4606",
   "metadata": {},
   "source": [
    "using a module for transfer learning"
   ]
  },
  {
   "cell_type": "code",
   "execution_count": 2,
   "id": "33e2e417",
   "metadata": {
    "collapsed": true
   },
   "outputs": [
    {
     "ename": "ModuleNotFoundError",
     "evalue": "No module named 'segmentation_models_pytorch'",
     "output_type": "error",
     "traceback": [
      "\u001b[1;31m---------------------------------------------------------------------------\u001b[0m",
      "\u001b[1;31mModuleNotFoundError\u001b[0m                       Traceback (most recent call last)",
      "\u001b[1;32m~\\AppData\\Local\\Temp\\ipykernel_14996\\2877218732.py\u001b[0m in \u001b[0;36m<module>\u001b[1;34m\u001b[0m\n\u001b[1;32m----> 1\u001b[1;33m \u001b[1;32mimport\u001b[0m \u001b[0msegmentation_models_pytorch\u001b[0m \u001b[1;32mas\u001b[0m \u001b[0msmp\u001b[0m\u001b[1;33m\u001b[0m\u001b[1;33m\u001b[0m\u001b[0m\n\u001b[0m\u001b[0;32m      2\u001b[0m unet_model = smp.Unet(\n\u001b[0;32m      3\u001b[0m     \u001b[0mencoder_name\u001b[0m\u001b[1;33m=\u001b[0m\u001b[1;34m\"resnet50\"\u001b[0m\u001b[1;33m,\u001b[0m        \u001b[1;31m# choose encoder, e.g. mobilenet_v2 or efficientnet-b7\u001b[0m\u001b[1;33m\u001b[0m\u001b[1;33m\u001b[0m\u001b[0m\n\u001b[0;32m      4\u001b[0m     \u001b[0mencoder_weights\u001b[0m\u001b[1;33m=\u001b[0m\u001b[1;34m\"imagenet\"\u001b[0m\u001b[1;33m,\u001b[0m     \u001b[1;31m# use `imagenet` pre-trained weights for encoder initialization\u001b[0m\u001b[1;33m\u001b[0m\u001b[1;33m\u001b[0m\u001b[0m\n\u001b[0;32m      5\u001b[0m     \u001b[0min_channels\u001b[0m\u001b[1;33m=\u001b[0m\u001b[1;36m1\u001b[0m\u001b[1;33m,\u001b[0m                  \u001b[1;31m# model input channels (1 for gray-scale images, 3 for RGB, etc.)\u001b[0m\u001b[1;33m\u001b[0m\u001b[1;33m\u001b[0m\u001b[0m\n",
      "\u001b[1;31mModuleNotFoundError\u001b[0m: No module named 'segmentation_models_pytorch'"
     ]
    }
   ],
   "source": [
    "# pip install segmentation-models-pytorch\n",
    "\n",
    "import segmentation_models_pytorch as smp\n",
    "unet_model = smp.Unet(\n",
    "    encoder_name=\"resnet50\",        # choose encoder, e.g. mobilenet_v2 or efficientnet-b7\n",
    "    encoder_weights=\"imagenet\",     # use `imagenet` pre-trained weights for encoder initialization\n",
    "    in_channels=1,                  # model input channels (1 for gray-scale images, 3 for RGB, etc.)\n",
    "    classes=1,                      # model output channels (number of classes in your dataset)\n",
    ")"
   ]
  },
  {
   "cell_type": "markdown",
   "id": "34f5eeb5",
   "metadata": {},
   "source": [
    "### USE THIS: use the unet code from class\n"
   ]
  },
  {
   "cell_type": "code",
   "execution_count": null,
   "id": "cd4fd117",
   "metadata": {},
   "outputs": [],
   "source": [
    "# transfer learning\n",
    "resnet = TV.models.resnet50(weights=ResNet50_Weights.DEFAULT)\n",
    "sd = resnet.state_dict()\n",
    "\n",
    "#initialise model with weights of resnet\n",
    "unet_model = u_net.UNet(num_classes=1)\n",
    "unet_model.state_dict(sd)"
   ]
  },
  {
   "cell_type": "markdown",
   "id": "dcd57d73",
   "metadata": {},
   "source": [
    "saw that the layer names were not the same, try another thing. This does not work"
   ]
  },
  {
   "cell_type": "code",
   "execution_count": null,
   "id": "c104f8f3",
   "metadata": {},
   "outputs": [],
   "source": [
    "unet_encoder_layers = list(unet_model.children())\n",
    "resnet_encoder_layers = list(resnet.children())\n",
    "\n",
    "for i, layer in enumerate(resnet_encoder_layers):\n",
    "    print(layer.state_dict())\n",
    "    unet_encoder_layers[i].load_state_dict(layer.state_dict())"
   ]
  },
  {
   "cell_type": "markdown",
   "id": "533f4c31",
   "metadata": {},
   "source": [
    "### load paths and datasets"
   ]
  },
  {
   "cell_type": "code",
   "execution_count": 3,
   "id": "40a1aed4",
   "metadata": {},
   "outputs": [],
   "source": [
    "# to ensure reproducible training/validation split\n",
    "random.seed(42)\n",
    "\n",
    "# directorys with data and to store training checkpoints and logs\n",
    "DATA_DIR = Path.cwd() / \"TrainingData\"\n",
    "CHECKPOINTS_DIR = Path.cwd() / \"segmentation_model_weights\"\n",
    "CHECKPOINTS_DIR.mkdir(parents=True, exist_ok=True)\n",
    "TENSORBOARD_LOGDIR = \"segmentation_runs\"\n",
    "\n",
    "# training settings and hyperparameters\n",
    "NO_VALIDATION_PATIENTS = 2\n",
    "IMAGE_SIZE = [64, 64]\n",
    "BATCH_SIZE = 32\n",
    "N_EPOCHS = 40\n",
    "LEARNING_RATE = 1e-4\n",
    "TOLERANCE = 0.01  # for early stopping\n"
   ]
  },
  {
   "cell_type": "code",
   "execution_count": 4,
   "id": "5b8abcda",
   "metadata": {},
   "outputs": [],
   "source": [
    "# load data\n",
    "# find patient folders in training directory\n",
    "patients = [\n",
    "    path\n",
    "    for path in glob.glob(path_data+r\"\\p*[0-9]\")\n",
    "]\n",
    "\n",
    "random.shuffle(patients)\n",
    "\n",
    "# split in training/validation after shuffling\n",
    "partition = {\n",
    "    \"train\": patients[:-NO_VALIDATION_PATIENTS],\n",
    "    \"validation\": patients[-NO_VALIDATION_PATIENTS:],\n",
    "}\n"
   ]
  },
  {
   "cell_type": "code",
   "execution_count": 5,
   "id": "024c42a8",
   "metadata": {},
   "outputs": [],
   "source": [
    "# load training data and create DataLoader with batching and shuffling\n",
    "dataset = utils.ProstateMRDataset(partition[\"train\"], IMAGE_SIZE)\n",
    "dataloader = DataLoader(\n",
    "    dataset,\n",
    "    batch_size=BATCH_SIZE,\n",
    "    shuffle=True,\n",
    "    drop_last=True,\n",
    "    pin_memory=True,\n",
    ")\n",
    "\n",
    "# load validation data\n",
    "valid_dataset = utils.ProstateMRDataset(partition[\"validation\"], IMAGE_SIZE)\n",
    "valid_dataloader = DataLoader(\n",
    "    valid_dataset,\n",
    "    batch_size=BATCH_SIZE,\n",
    "    shuffle=True,\n",
    "    drop_last=True,\n",
    "    pin_memory=True,\n",
    ")"
   ]
  },
  {
   "cell_type": "markdown",
   "id": "a4818ba5",
   "metadata": {},
   "source": [
    "### initialise optimiser and loss function"
   ]
  },
  {
   "cell_type": "code",
   "execution_count": 6,
   "id": "2d865bd6",
   "metadata": {},
   "outputs": [],
   "source": [
    "loss_function = utils.DiceBCELoss()\n",
    "optimizer = torch.optim.Adam(unet_model.parameters(), lr=LEARNING_RATE)\n",
    "\n",
    "minimum_valid_loss = 10  # initial validation loss\n",
    "writer = SummaryWriter(log_dir=TENSORBOARD_LOGDIR)  # tensorboard summary"
   ]
  },
  {
   "cell_type": "code",
   "execution_count": 7,
   "id": "c9b07256",
   "metadata": {
    "scrolled": true
   },
   "outputs": [
    {
     "name": "stderr",
     "output_type": "stream",
     "text": [
      "100%|██████████| 34/34 [01:59<00:00,  3.51s/it]\n",
      "100%|██████████| 5/5 [00:05<00:00,  1.05s/it]\n"
     ]
    },
    {
     "name": "stdout",
     "output_type": "stream",
     "text": [
      "[INFO] EPOCH: 1\n",
      "Train loss: 1.375951, Val loss: 1.3782\n"
     ]
    },
    {
     "name": "stderr",
     "output_type": "stream",
     "text": [
      "100%|██████████| 34/34 [01:51<00:00,  3.29s/it]\n",
      "100%|██████████| 5/5 [00:05<00:00,  1.12s/it]\n"
     ]
    },
    {
     "name": "stdout",
     "output_type": "stream",
     "text": [
      "[INFO] EPOCH: 2\n",
      "Train loss: 1.098003, Val loss: 1.1664\n"
     ]
    },
    {
     "name": "stderr",
     "output_type": "stream",
     "text": [
      "100%|██████████| 34/34 [02:17<00:00,  4.05s/it]\n",
      "100%|██████████| 5/5 [00:04<00:00,  1.10it/s]\n"
     ]
    },
    {
     "name": "stdout",
     "output_type": "stream",
     "text": [
      "[INFO] EPOCH: 3\n",
      "Train loss: 0.936156, Val loss: 1.0664\n"
     ]
    },
    {
     "name": "stderr",
     "output_type": "stream",
     "text": [
      "100%|██████████| 34/34 [02:13<00:00,  3.93s/it]\n",
      "100%|██████████| 5/5 [00:05<00:00,  1.09s/it]\n"
     ]
    },
    {
     "name": "stdout",
     "output_type": "stream",
     "text": [
      "[INFO] EPOCH: 4\n",
      "Train loss: 0.814958, Val loss: 0.9828\n"
     ]
    },
    {
     "name": "stderr",
     "output_type": "stream",
     "text": [
      "100%|██████████| 34/34 [01:58<00:00,  3.50s/it]\n",
      "100%|██████████| 5/5 [00:05<00:00,  1.05s/it]\n"
     ]
    },
    {
     "name": "stdout",
     "output_type": "stream",
     "text": [
      "[INFO] EPOCH: 5\n",
      "Train loss: 0.735638, Val loss: 0.9221\n"
     ]
    },
    {
     "name": "stderr",
     "output_type": "stream",
     "text": [
      "100%|██████████| 34/34 [01:57<00:00,  3.47s/it]\n",
      "100%|██████████| 5/5 [00:04<00:00,  1.05it/s]\n"
     ]
    },
    {
     "name": "stdout",
     "output_type": "stream",
     "text": [
      "[INFO] EPOCH: 6\n",
      "Train loss: 0.661745, Val loss: 0.8620\n"
     ]
    },
    {
     "name": "stderr",
     "output_type": "stream",
     "text": [
      "100%|██████████| 34/34 [02:00<00:00,  3.56s/it]\n",
      "100%|██████████| 5/5 [00:05<00:00,  1.02s/it]\n"
     ]
    },
    {
     "name": "stdout",
     "output_type": "stream",
     "text": [
      "[INFO] EPOCH: 7\n",
      "Train loss: 0.597173, Val loss: 0.8306\n"
     ]
    },
    {
     "name": "stderr",
     "output_type": "stream",
     "text": [
      "100%|██████████| 34/34 [02:01<00:00,  3.58s/it]\n",
      "100%|██████████| 5/5 [00:04<00:00,  1.06it/s]\n"
     ]
    },
    {
     "name": "stdout",
     "output_type": "stream",
     "text": [
      "[INFO] EPOCH: 8\n",
      "Train loss: 0.546993, Val loss: 0.7863\n"
     ]
    },
    {
     "name": "stderr",
     "output_type": "stream",
     "text": [
      "100%|██████████| 34/34 [01:57<00:00,  3.44s/it]\n",
      "100%|██████████| 5/5 [00:05<00:00,  1.04s/it]\n"
     ]
    },
    {
     "name": "stdout",
     "output_type": "stream",
     "text": [
      "[INFO] EPOCH: 9\n",
      "Train loss: 0.490810, Val loss: 0.7553\n"
     ]
    },
    {
     "name": "stderr",
     "output_type": "stream",
     "text": [
      "100%|██████████| 34/34 [02:00<00:00,  3.54s/it]\n",
      "100%|██████████| 5/5 [00:06<00:00,  1.26s/it]\n"
     ]
    },
    {
     "name": "stdout",
     "output_type": "stream",
     "text": [
      "[INFO] EPOCH: 10\n",
      "Train loss: 0.450059, Val loss: 0.6885\n"
     ]
    },
    {
     "name": "stderr",
     "output_type": "stream",
     "text": [
      "100%|██████████| 34/34 [02:00<00:00,  3.54s/it]\n",
      "100%|██████████| 5/5 [00:05<00:00,  1.07s/it]\n"
     ]
    },
    {
     "name": "stdout",
     "output_type": "stream",
     "text": [
      "[INFO] EPOCH: 11\n",
      "Train loss: 0.401401, Val loss: 0.6694\n"
     ]
    },
    {
     "name": "stderr",
     "output_type": "stream",
     "text": [
      "100%|██████████| 34/34 [02:09<00:00,  3.81s/it]\n",
      "100%|██████████| 5/5 [00:04<00:00,  1.01it/s]\n"
     ]
    },
    {
     "name": "stdout",
     "output_type": "stream",
     "text": [
      "[INFO] EPOCH: 12\n",
      "Train loss: 0.373332, Val loss: 0.6270\n"
     ]
    },
    {
     "name": "stderr",
     "output_type": "stream",
     "text": [
      "100%|██████████| 34/34 [01:55<00:00,  3.41s/it]\n",
      "100%|██████████| 5/5 [00:07<00:00,  1.59s/it]\n"
     ]
    },
    {
     "name": "stdout",
     "output_type": "stream",
     "text": [
      "[INFO] EPOCH: 13\n",
      "Train loss: 0.336453, Val loss: 0.6063\n"
     ]
    },
    {
     "name": "stderr",
     "output_type": "stream",
     "text": [
      "100%|██████████| 34/34 [01:57<00:00,  3.44s/it]\n",
      "100%|██████████| 5/5 [00:04<00:00,  1.15it/s]\n"
     ]
    },
    {
     "name": "stdout",
     "output_type": "stream",
     "text": [
      "[INFO] EPOCH: 14\n",
      "Train loss: 0.301467, Val loss: 0.5804\n"
     ]
    },
    {
     "name": "stderr",
     "output_type": "stream",
     "text": [
      "100%|██████████| 34/34 [02:03<00:00,  3.64s/it]\n",
      "100%|██████████| 5/5 [00:04<00:00,  1.07it/s]\n"
     ]
    },
    {
     "name": "stdout",
     "output_type": "stream",
     "text": [
      "[INFO] EPOCH: 15\n",
      "Train loss: 0.277281, Val loss: 0.5529\n"
     ]
    },
    {
     "name": "stderr",
     "output_type": "stream",
     "text": [
      "100%|██████████| 34/34 [01:48<00:00,  3.20s/it]\n",
      "100%|██████████| 5/5 [00:04<00:00,  1.04it/s]\n"
     ]
    },
    {
     "name": "stdout",
     "output_type": "stream",
     "text": [
      "[INFO] EPOCH: 16\n",
      "Train loss: 0.251099, Val loss: 0.5383\n"
     ]
    },
    {
     "name": "stderr",
     "output_type": "stream",
     "text": [
      "100%|██████████| 34/34 [02:14<00:00,  3.97s/it]\n",
      "100%|██████████| 5/5 [00:04<00:00,  1.04it/s]\n"
     ]
    },
    {
     "name": "stdout",
     "output_type": "stream",
     "text": [
      "[INFO] EPOCH: 17\n",
      "Train loss: 0.230408, Val loss: 0.5097\n"
     ]
    },
    {
     "name": "stderr",
     "output_type": "stream",
     "text": [
      "100%|██████████| 34/34 [02:00<00:00,  3.55s/it]\n",
      "100%|██████████| 5/5 [00:04<00:00,  1.22it/s]\n"
     ]
    },
    {
     "name": "stdout",
     "output_type": "stream",
     "text": [
      "[INFO] EPOCH: 18\n",
      "Train loss: 0.214815, Val loss: 0.5082\n"
     ]
    },
    {
     "name": "stderr",
     "output_type": "stream",
     "text": [
      "100%|██████████| 34/34 [01:47<00:00,  3.16s/it]\n",
      "100%|██████████| 5/5 [00:04<00:00,  1.21it/s]\n"
     ]
    },
    {
     "name": "stdout",
     "output_type": "stream",
     "text": [
      "[INFO] EPOCH: 19\n",
      "Train loss: 0.194760, Val loss: 0.4689\n"
     ]
    },
    {
     "name": "stderr",
     "output_type": "stream",
     "text": [
      "100%|██████████| 34/34 [02:04<00:00,  3.67s/it]\n",
      "100%|██████████| 5/5 [00:05<00:00,  1.15s/it]\n"
     ]
    },
    {
     "name": "stdout",
     "output_type": "stream",
     "text": [
      "[INFO] EPOCH: 20\n",
      "Train loss: 0.179603, Val loss: 0.4673\n"
     ]
    },
    {
     "name": "stderr",
     "output_type": "stream",
     "text": [
      "100%|██████████| 34/34 [02:20<00:00,  4.14s/it]\n",
      "100%|██████████| 5/5 [00:06<00:00,  1.25s/it]\n"
     ]
    },
    {
     "name": "stdout",
     "output_type": "stream",
     "text": [
      "[INFO] EPOCH: 21\n",
      "Train loss: 0.166102, Val loss: 0.4607\n"
     ]
    },
    {
     "name": "stderr",
     "output_type": "stream",
     "text": [
      "100%|██████████| 34/34 [02:17<00:00,  4.05s/it]\n",
      "100%|██████████| 5/5 [00:05<00:00,  1.18s/it]\n"
     ]
    },
    {
     "name": "stdout",
     "output_type": "stream",
     "text": [
      "[INFO] EPOCH: 22\n",
      "Train loss: 0.155403, Val loss: 0.4538\n"
     ]
    },
    {
     "name": "stderr",
     "output_type": "stream",
     "text": [
      "100%|██████████| 34/34 [02:26<00:00,  4.31s/it]\n",
      "100%|██████████| 5/5 [00:06<00:00,  1.25s/it]\n"
     ]
    },
    {
     "name": "stdout",
     "output_type": "stream",
     "text": [
      "[INFO] EPOCH: 23\n",
      "Train loss: 0.143130, Val loss: 0.4517\n"
     ]
    },
    {
     "name": "stderr",
     "output_type": "stream",
     "text": [
      "100%|██████████| 34/34 [02:18<00:00,  4.06s/it]\n",
      "100%|██████████| 5/5 [00:05<00:00,  1.07s/it]\n"
     ]
    },
    {
     "name": "stdout",
     "output_type": "stream",
     "text": [
      "[INFO] EPOCH: 24\n",
      "Train loss: 0.133545, Val loss: 0.4365\n"
     ]
    },
    {
     "name": "stderr",
     "output_type": "stream",
     "text": [
      "100%|██████████| 34/34 [02:25<00:00,  4.28s/it]\n",
      "100%|██████████| 5/5 [00:04<00:00,  1.04it/s]\n"
     ]
    },
    {
     "name": "stdout",
     "output_type": "stream",
     "text": [
      "[INFO] EPOCH: 25\n",
      "Train loss: 0.125127, Val loss: 0.4348\n"
     ]
    },
    {
     "name": "stderr",
     "output_type": "stream",
     "text": [
      "100%|██████████| 34/34 [02:15<00:00,  3.99s/it]\n",
      "100%|██████████| 5/5 [00:05<00:00,  1.08s/it]\n"
     ]
    },
    {
     "name": "stdout",
     "output_type": "stream",
     "text": [
      "[INFO] EPOCH: 26\n",
      "Train loss: 0.117572, Val loss: 0.4043\n"
     ]
    },
    {
     "name": "stderr",
     "output_type": "stream",
     "text": [
      "100%|██████████| 34/34 [02:30<00:00,  4.42s/it]\n",
      "100%|██████████| 5/5 [00:06<00:00,  1.27s/it]\n"
     ]
    },
    {
     "name": "stdout",
     "output_type": "stream",
     "text": [
      "[INFO] EPOCH: 27\n",
      "Train loss: 0.108914, Val loss: 0.4073\n"
     ]
    },
    {
     "name": "stderr",
     "output_type": "stream",
     "text": [
      "100%|██████████| 34/34 [02:20<00:00,  4.14s/it]\n",
      "100%|██████████| 5/5 [00:05<00:00,  1.19s/it]\n"
     ]
    },
    {
     "name": "stdout",
     "output_type": "stream",
     "text": [
      "[INFO] EPOCH: 28\n",
      "Train loss: 0.104430, Val loss: 0.4201\n"
     ]
    },
    {
     "name": "stderr",
     "output_type": "stream",
     "text": [
      "100%|██████████| 34/34 [02:13<00:00,  3.92s/it]\n",
      "100%|██████████| 5/5 [00:05<00:00,  1.20s/it]\n"
     ]
    },
    {
     "name": "stdout",
     "output_type": "stream",
     "text": [
      "[INFO] EPOCH: 29\n",
      "Train loss: 0.097419, Val loss: 0.4070\n"
     ]
    },
    {
     "name": "stderr",
     "output_type": "stream",
     "text": [
      "100%|██████████| 34/34 [01:56<00:00,  3.43s/it]\n",
      "100%|██████████| 5/5 [00:04<00:00,  1.02it/s]\n"
     ]
    },
    {
     "name": "stdout",
     "output_type": "stream",
     "text": [
      "[INFO] EPOCH: 30\n",
      "Train loss: 0.094321, Val loss: 0.3970\n"
     ]
    },
    {
     "name": "stderr",
     "output_type": "stream",
     "text": [
      "100%|██████████| 34/34 [01:48<00:00,  3.18s/it]\n",
      "100%|██████████| 5/5 [00:05<00:00,  1.05s/it]\n"
     ]
    },
    {
     "name": "stdout",
     "output_type": "stream",
     "text": [
      "[INFO] EPOCH: 31\n",
      "Train loss: 0.086465, Val loss: 0.3963\n"
     ]
    },
    {
     "name": "stderr",
     "output_type": "stream",
     "text": [
      "100%|██████████| 34/34 [02:12<00:00,  3.90s/it]\n",
      "100%|██████████| 5/5 [00:06<00:00,  1.24s/it]\n"
     ]
    },
    {
     "name": "stdout",
     "output_type": "stream",
     "text": [
      "[INFO] EPOCH: 32\n",
      "Train loss: 0.084043, Val loss: 0.3877\n"
     ]
    },
    {
     "name": "stderr",
     "output_type": "stream",
     "text": [
      "100%|██████████| 34/34 [02:11<00:00,  3.86s/it]\n",
      "100%|██████████| 5/5 [00:06<00:00,  1.21s/it]\n"
     ]
    },
    {
     "name": "stdout",
     "output_type": "stream",
     "text": [
      "[INFO] EPOCH: 33\n",
      "Train loss: 0.078290, Val loss: 0.3999\n"
     ]
    },
    {
     "name": "stderr",
     "output_type": "stream",
     "text": [
      "100%|██████████| 34/34 [02:10<00:00,  3.83s/it]\n",
      "100%|██████████| 5/5 [00:05<00:00,  1.15s/it]\n"
     ]
    },
    {
     "name": "stdout",
     "output_type": "stream",
     "text": [
      "[INFO] EPOCH: 34\n",
      "Train loss: 0.075779, Val loss: 0.3794\n"
     ]
    },
    {
     "name": "stderr",
     "output_type": "stream",
     "text": [
      "100%|██████████| 34/34 [02:09<00:00,  3.82s/it]\n",
      "100%|██████████| 5/5 [00:06<00:00,  1.35s/it]\n"
     ]
    },
    {
     "name": "stdout",
     "output_type": "stream",
     "text": [
      "[INFO] EPOCH: 35\n",
      "Train loss: 0.071804, Val loss: 0.3747\n"
     ]
    },
    {
     "name": "stderr",
     "output_type": "stream",
     "text": [
      "100%|██████████| 34/34 [02:14<00:00,  3.95s/it]\n",
      "100%|██████████| 5/5 [00:06<00:00,  1.26s/it]\n"
     ]
    },
    {
     "name": "stdout",
     "output_type": "stream",
     "text": [
      "[INFO] EPOCH: 36\n",
      "Train loss: 0.069385, Val loss: 0.3824\n"
     ]
    },
    {
     "name": "stderr",
     "output_type": "stream",
     "text": [
      "100%|██████████| 34/34 [02:16<00:00,  4.01s/it]\n",
      "100%|██████████| 5/5 [00:06<00:00,  1.38s/it]\n"
     ]
    },
    {
     "name": "stdout",
     "output_type": "stream",
     "text": [
      "[INFO] EPOCH: 37\n",
      "Train loss: 0.063975, Val loss: 0.3819\n"
     ]
    },
    {
     "name": "stderr",
     "output_type": "stream",
     "text": [
      "100%|██████████| 34/34 [02:15<00:00,  3.99s/it]\n",
      "100%|██████████| 5/5 [00:06<00:00,  1.25s/it]\n"
     ]
    },
    {
     "name": "stdout",
     "output_type": "stream",
     "text": [
      "[INFO] EPOCH: 38\n",
      "Train loss: 0.063503, Val loss: 0.3800\n"
     ]
    },
    {
     "name": "stderr",
     "output_type": "stream",
     "text": [
      "100%|██████████| 34/34 [02:15<00:00,  3.98s/it]\n",
      "100%|██████████| 5/5 [00:07<00:00,  1.43s/it]\n"
     ]
    },
    {
     "name": "stdout",
     "output_type": "stream",
     "text": [
      "[INFO] EPOCH: 39\n",
      "Train loss: 0.060668, Val loss: 0.3812\n"
     ]
    },
    {
     "name": "stderr",
     "output_type": "stream",
     "text": [
      "100%|██████████| 34/34 [02:10<00:00,  3.83s/it]\n",
      "100%|██████████| 5/5 [00:06<00:00,  1.23s/it]\n"
     ]
    },
    {
     "name": "stdout",
     "output_type": "stream",
     "text": [
      "[INFO] EPOCH: 40\n",
      "Train loss: 0.059871, Val loss: 0.3720\n",
      "[INFO] total time taken to train the model: 5344.76s\n"
     ]
    }
   ],
   "source": [
    "# training loop\n",
    "startTime = time.time()\n",
    "\n",
    "for epoch in range(N_EPOCHS):\n",
    "    current_train_loss = 0.0\n",
    "    current_valid_loss = 0.0\n",
    "\n",
    "    # training iterations\n",
    "    # tqdm is for timing iteratiions\n",
    "    for inputs, labels in tqdm(dataloader, position=0):\n",
    "        # needed to zero gradients in each iterations\n",
    "        optimizer.zero_grad()\n",
    "        outputs = unet_model(inputs)  # forward pass\n",
    "        loss = loss_function(outputs, labels.float())\n",
    "        loss.backward()  # backpropagate loss\n",
    "        current_train_loss += loss.item()\n",
    "        optimizer.step()  # update weights\n",
    "\n",
    "    # evaluate validation loss\n",
    "    with torch.no_grad():\n",
    "        unet_model.eval()  # turn off training option for evaluation\n",
    "        for inputs, labels in tqdm(valid_dataloader, position=0):\n",
    "            outputs = unet_model(inputs)  # forward pass\n",
    "            loss = loss_function(outputs, labels.float())\n",
    "            current_valid_loss += loss.item()\n",
    "\n",
    "        unet_model.train()  # turn training back on\n",
    "        \n",
    "    \n",
    "    print(\"[INFO] EPOCH: {}\".format(epoch + 1))\n",
    "    print(\"Train loss: {:.6f}, Val loss: {:.4f}\".format(current_train_loss/ len(dataloader), current_valid_loss/ len(valid_dataloader)))\n",
    "\n",
    "    # write to tensorboard log\n",
    "    writer.add_scalar(\"Loss/train\", current_train_loss / len(dataloader), epoch)\n",
    "    writer.add_scalar(\n",
    "        \"Loss/validation\", current_valid_loss / len(valid_dataloader), epoch\n",
    "    )\n",
    "\n",
    "    # if validation loss is improving, save model checkpoint\n",
    "    # only start saving after 10 epochs\n",
    "    if (current_valid_loss / len(valid_dataloader)) < minimum_valid_loss + TOLERANCE:\n",
    "        minimum_valid_loss = current_valid_loss / len(valid_dataloader)\n",
    "        if epoch > 9:\n",
    "            torch.save(\n",
    "                unet_model.cpu().state_dict(),\n",
    "                CHECKPOINTS_DIR / f\"u_net_{epoch}.pth\",\n",
    "            )\n",
    "            \n",
    "# display the total time needed to perform the training\n",
    "endTime = time.time()\n",
    "print(\"[INFO] total time taken to train the model: {:.2f}s\".format(endTime - startTime))"
   ]
  },
  {
   "cell_type": "code",
   "execution_count": 65,
   "id": "c9ce8f31",
   "metadata": {},
   "outputs": [
    {
     "name": "stdout",
     "output_type": "stream",
     "text": [
      "['events.out.tfevents.1679764552.DESKTOP-RB7PK2S.6808.0']\n"
     ]
    }
   ],
   "source": [
    "path=r\"C:\\Users\\pauli\\Desktop\\UNI\\UTRECHT\\3RD PERIOD COURSES\\CAPITA_SELECTA\\group project\\segmentation_runs\"\n",
    "from os import listdir\n",
    "from os.path import isfile, join\n",
    "\n",
    "images_names= [f for f in listdir(path) if isfile(join(path, f))]\n",
    "\n",
    "print(images_names)"
   ]
  },
  {
   "cell_type": "code",
   "execution_count": 3,
   "id": "3d069875",
   "metadata": {},
   "outputs": [
    {
     "data": {
      "text/plain": [
       "Reusing TensorBoard on port 6006 (pid 22408), started 2 days, 22:13:32 ago. (Use '!kill 22408' to kill it.)"
      ]
     },
     "metadata": {},
     "output_type": "display_data"
    },
    {
     "data": {
      "text/html": [
       "\n",
       "      <iframe id=\"tensorboard-frame-93068974120e920a\" width=\"100%\" height=\"800\" frameborder=\"0\">\n",
       "      </iframe>\n",
       "      <script>\n",
       "        (function() {\n",
       "          const frame = document.getElementById(\"tensorboard-frame-93068974120e920a\");\n",
       "          const url = new URL(\"/\", window.location);\n",
       "          const port = 6006;\n",
       "          if (port) {\n",
       "            url.port = port;\n",
       "          }\n",
       "          frame.src = url;\n",
       "        })();\n",
       "      </script>\n",
       "    "
      ],
      "text/plain": [
       "<IPython.core.display.HTML object>"
      ]
     },
     "metadata": {},
     "output_type": "display_data"
    }
   ],
   "source": [
    "# plot the training and validation loss\n",
    "#%tensorboard --logdir 'C:\\Users\\pauli\\Desktop\\UNI\\UTRECHT\\3RD PERIOD COURSES\\CAPITA_SELECTA\\group project\\segmentation_runs'\n",
    "%reload_ext tensorboard\n",
    "\n",
    "%tensorboard --logdir '$TENSORBOARD_LOGDIR'\n"
   ]
  },
  {
   "cell_type": "code",
   "execution_count": null,
   "id": "71f32ffd",
   "metadata": {},
   "outputs": [],
   "source": []
  }
 ],
 "metadata": {
  "kernelspec": {
   "display_name": "Python 3 (ipykernel)",
   "language": "python",
   "name": "python3"
  },
  "language_info": {
   "codemirror_mode": {
    "name": "ipython",
    "version": 3
   },
   "file_extension": ".py",
   "mimetype": "text/x-python",
   "name": "python",
   "nbconvert_exporter": "python",
   "pygments_lexer": "ipython3",
   "version": "3.9.13"
  }
 },
 "nbformat": 4,
 "nbformat_minor": 5
}
