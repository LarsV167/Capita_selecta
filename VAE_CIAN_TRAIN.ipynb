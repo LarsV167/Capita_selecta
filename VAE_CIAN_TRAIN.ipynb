{
 "cells": [
  {
   "cell_type": "code",
   "execution_count": 1,
   "metadata": {},
   "outputs": [],
   "source": [
    "import random\n",
    "from pathlib import Path\n",
    "import torch\n",
    "import torch.nn.functional as F\n",
    "from torch.nn import UpsamplingNearest2d\n",
    "from torch.nn.utils import spectral_norm\n",
    "from torch.distributions import Normal\n",
    "import torch\n",
    "from pathlib import Path\n",
    "from torch import nn\n",
    "import pdb\n",
    "from torch.utils.tensorboard import SummaryWriter\n",
    "from tqdm import tqdm\n",
    "#import u_net\n",
    "import utils\n",
    "import glob\n",
    "from torchvision.io import read_image\n",
    "import os\n",
    "from torchvision.models import vgg16\n",
    "import torchvision.transforms as T\n",
    "import torch\n",
    "import os\n",
    "import vae\n",
    "from torch.utils.data import DataLoader\n",
    "import numpy as np\n",
    "import GAN\n",
    "from torch.utils.tensorboard import SummaryWriter\n",
    "from torchvision.utils import make_grid\n",
    "from torchsummary import summary"
   ]
  },
  {
   "attachments": {},
   "cell_type": "markdown",
   "metadata": {},
   "source": [
    "### Helpfull sources?\n",
    "https://opengtn.eu/wp-content/uploads/2022/02/Amirrajab_Intra-and-intersubject-synthesis-of-cardiac-MR-images-using-a-VAE-and-GAN-ISMRM2022.pdf  \n",
    "\n",
    "https://notebook.community/zklgame/CatEyeNets/test/GANs-PyTorch \n",
    "\n",
    "https://www.researchgate.net/figure/Discriminator-networks-architecture-All-convolution-layers-use-zero-padding-set-to-one_fig3_330470286 \n",
    "\n",
    "Op het moment is het probleem dat de modellen niet goed leren. Dus de loss van de generator begint hoog maar daalt terwijl de loss van de generator juist laag begint en omhoog gaat. Eigenlijk zou je willen dat de loss van de generator juist omlaag gaat en de loss van de discriminator juist omhoog. "
   ]
  },
  {
   "cell_type": "code",
   "execution_count": 2,
   "metadata": {},
   "outputs": [],
   "source": [
    "random.seed(42)\n",
    "DATA_DIR = r\"D:\\master\\TrainingData\\TrainingData\"\n",
    "CHECKPOINTS_DIR = Path.cwd() / \"vae_model_weights\"\n",
    "CHECKPOINTS_DIR.mkdir(parents=True, exist_ok=True)\n",
    "TENSORBOARD_LOGDIR_GAN = \"GAN_runs\""
   ]
  },
  {
   "cell_type": "code",
   "execution_count": 3,
   "metadata": {},
   "outputs": [],
   "source": [
    "\n",
    "# training settings and hyperparameters\n",
    "NO_VALIDATION_PATIENTS = 4 #I think we wanted to generate images on whole dataset so this should be 0?\n",
    "IMAGE_SIZE = [64, 64]\n",
    "BATCH_SIZE = 32\n",
    "N_EPOCHS = 10\n",
    "DECAY_LR_AFTER = 50\n",
    "LEARNING_RATE = 1e-4\n",
    "DISPLAY_FREQ = 10\n",
    "\n",
    "# dimension of VAE latent space\n",
    "Z_DIM = 256"
   ]
  },
  {
   "cell_type": "code",
   "execution_count": 4,
   "metadata": {},
   "outputs": [],
   "source": [
    "# function to reduce the\n",
    "def lr_lambda(the_epoch):\n",
    "    \"\"\"Function for scheduling learning rate\"\"\"\n",
    "    return (\n",
    "        1.0\n",
    "        if the_epoch < DECAY_LR_AFTER\n",
    "        else 1 - float(the_epoch - DECAY_LR_AFTER) / (N_EPOCHS - DECAY_LR_AFTER)\n",
    "    )"
   ]
  },
  {
   "cell_type": "code",
   "execution_count": 5,
   "metadata": {},
   "outputs": [],
   "source": [
    "patients = [\n",
    "    path\n",
    "    for path in glob.glob(DATA_DIR+r\"\\p*[0-9]\")\n",
    "]\n",
    "\n",
    "random.shuffle(patients)\n",
    "\n",
    "# split in training/validation after shuffling\n",
    "partition = {\n",
    "    \"train\": patients[:-NO_VALIDATION_PATIENTS],\n",
    "    \"validation\": patients[-NO_VALIDATION_PATIENTS:],\n",
    "}"
   ]
  },
  {
   "cell_type": "code",
   "execution_count": 6,
   "metadata": {},
   "outputs": [],
   "source": [
    "dataset = utils.ProstateMRDataset(partition[\"train\"], IMAGE_SIZE)\n",
    "dataloader = DataLoader(\n",
    "    dataset,\n",
    "    batch_size=BATCH_SIZE,\n",
    "    shuffle=True,\n",
    "    drop_last=True,\n",
    "    pin_memory=True,\n",
    ")"
   ]
  },
  {
   "cell_type": "code",
   "execution_count": 7,
   "metadata": {},
   "outputs": [
    {
     "name": "stdout",
     "output_type": "stream",
     "text": [
      "Feature batch shape: torch.Size([32, 1, 64, 64])\n",
      "Labels batch shape: torch.Size([32, 1, 64, 64])\n"
     ]
    },
    {
     "data": {
      "image/png": "[encoded data removed]",
      "text/plain": [
       "<Figure size 640x480 with 1 Axes>"
      ]
     },
     "metadata": {},
     "output_type": "display_data"
    },
    {
     "name": "stdout",
     "output_type": "stream",
     "text": [
      "Label: tensor([[0, 0, 0,  ..., 0, 0, 0],\n",
      "        [0, 0, 0,  ..., 0, 0, 0],\n",
      "        [0, 0, 0,  ..., 0, 0, 0],\n",
      "        ...,\n",
      "        [0, 0, 0,  ..., 0, 0, 0],\n",
      "        [0, 0, 0,  ..., 0, 0, 0],\n",
      "        [0, 0, 0,  ..., 0, 0, 0]], dtype=torch.int32)\n"
     ]
    }
   ],
   "source": [
    "import matplotlib.pyplot as plt\n",
    "train_features, train_labels = next(iter(dataloader))\n",
    "print(f\"Feature batch shape: {train_features.size()}\")\n",
    "print(f\"Labels batch shape: {train_labels.size()}\")\n",
    "img = train_features[0].squeeze()\n",
    "label = train_labels[0].squeeze()\n",
    "plt.imshow(img, cmap=\"gray\")\n",
    "plt.imshow(label,cmap='gray',alpha=0.3)\n",
    "plt.show()\n",
    "print(f\"Label: {label}\")"
   ]
  },
  {
   "cell_type": "code",
   "execution_count": 8,
   "metadata": {},
   "outputs": [],
   "source": [
    "# load validation data\n",
    "valid_dataset = utils.ProstateMRDataset(partition[\"validation\"], IMAGE_SIZE)\n",
    "valid_dataloader = DataLoader(\n",
    "    valid_dataset,\n",
    "    batch_size=BATCH_SIZE,\n",
    "    shuffle=True,\n",
    "    drop_last=True,\n",
    "    pin_memory=True,\n",
    ")"
   ]
  },
  {
   "cell_type": "code",
   "execution_count": 9,
   "metadata": {},
   "outputs": [],
   "source": [
    "# # initialise model, optimiser\n",
    "# vae_model = vae.VAE()\n",
    "# optimizer = torch.optim.Adam(vae_model.parameters(), lr=LEARNING_RATE)\n",
    "# # add a learning rate scheduler based on the lr_lambda function\n",
    "# scheduler = torch.optim.lr_scheduler.LambdaLR(optimizer, lr_lambda)\n"
   ]
  },
  {
   "cell_type": "code",
   "execution_count": 10,
   "metadata": {},
   "outputs": [],
   "source": [
    "# # training loop\n",
    "# writer = SummaryWriter(log_dir=TENSORBOARD_LOGDIR)  # tensorboard summary\n",
    "# for epoch in range(N_EPOCHS):\n",
    "#     current_train_loss = 0.0\n",
    "#     current_valid_loss = 0.0\n",
    "\n",
    "#     for x_real, _ in tqdm(dataloader, position=0):\n",
    "#         # needed to zero gradients in each iteration\n",
    "#         optimizer.zero_grad()\n",
    "#         x_recon, mu, logvar = vae_model(x_real)  # forward pass\n",
    "#         loss = vae.vae_loss(x_real, x_recon, mu, logvar)\n",
    "#         current_train_loss += loss.item()\n",
    "#         loss.backward()  # backpropagate loss\n",
    "#         optimizer.step()  # update weights\n",
    "\n",
    "#     # write to tensorboard log\n",
    "#     writer.add_scalar(\"Loss/train\", current_train_loss / len(dataloader), epoch)\n",
    "\n",
    "#     scheduler.step()  # step the learning step scheduler\n",
    "\n",
    "#     # save examples of real/fake images\n",
    "#     if (epoch + 1) % 1 == 0:\n",
    "#         vae_model.eval()\n",
    "#         img_grid = make_grid(\n",
    "#             torch.cat((x_recon[:5], x_real[:5])), nrow=5, padding=12, pad_value=-1\n",
    "#         )\n",
    "#         writer.add_image(\n",
    "#             \"Real/fake_recon\",\n",
    "#             np.clip(img_grid[0][np.newaxis], -1, 1) / 2 + 0.5,\n",
    "#             epoch + 1,\n",
    "#         )\n",
    "\n",
    "#         noise = torch.randn(10, Z_DIM)\n",
    "#         image_samples = vae_model.generator(noise)\n",
    "#         img_grid = make_grid(\n",
    "#             torch.cat((image_samples[:5], image_samples[5:])),\n",
    "#             nrow=5,\n",
    "#             padding=12,\n",
    "#             pad_value=-1,\n",
    "#         )\n",
    "#         writer.add_image(\n",
    "#             \"Samples\",\n",
    "#             np.clip(img_grid[0][np.newaxis], -1, 1) / 2 + 0.5,\n",
    "#             epoch + 1,\n",
    "#         )\n",
    "\n",
    "#     vae_model.train()\n",
    "\n",
    "\n",
    "# torch.save(vae_model.state_dict(), CHECKPOINTS_DIR / \"vae_model.pth\")"
   ]
  },
  {
   "cell_type": "code",
   "execution_count": 11,
   "metadata": {},
   "outputs": [
    {
     "data": {
      "text/html": [
       "\n",
       "      <iframe id=\"tensorboard-frame-7a0ca6e0822e8f3\" width=\"100%\" height=\"800\" frameborder=\"0\">\n",
       "      </iframe>\n",
       "      <script>\n",
       "        (function() {\n",
       "          const frame = document.getElementById(\"tensorboard-frame-7a0ca6e0822e8f3\");\n",
       "          const url = new URL(\"http://localhost\");\n",
       "          const port = 6006;\n",
       "          if (port) {\n",
       "            url.port = port;\n",
       "          }\n",
       "          frame.src = url;\n",
       "        })();\n",
       "      </script>\n",
       "    "
      ],
      "text/plain": [
       "<IPython.core.display.HTML object>"
      ]
     },
     "metadata": {},
     "output_type": "display_data"
    }
   ],
   "source": [
    "%load_ext tensorboard\n",
    "%tensorboard --logdir='vae_runs'"
   ]
  },
  {
   "attachments": {},
   "cell_type": "markdown",
   "metadata": {},
   "source": [
    "### GAN TRAINING"
   ]
  },
  {
   "cell_type": "code",
   "execution_count": 12,
   "metadata": {},
   "outputs": [],
   "source": [
    "# class GANLoss(nn.Module):\n",
    "#     def __init__(self, use_lsgan=True, target_real_label=1.0, target_fake_label=0.0,\n",
    "#                  tensor=torch.FloatTensor):\n",
    "#         super().__init__()\n",
    "#         self.real_label = target_real_label\n",
    "#         self.fake_label = target_fake_label\n",
    "#         self.real_label_var = None\n",
    "#         self.fake_label_var = None\n",
    "#         self.Tensor = tensor\n",
    "#         if use_lsgan:\n",
    "#             self.loss = nn.L1Loss()\n",
    "#         else:\n",
    "#             self.loss = nn.BCELoss()\n",
    "\n",
    "#     def get_target_tensor(self, input, target_is_real):\n",
    "#         target_tensor = None\n",
    "#         if target_is_real:\n",
    "#             create_label = ((self.real_label_var is None) or\n",
    "#                             (self.real_label_var.numel() != input.numel()))\n",
    "#             if create_label:\n",
    "#                 real_tensor = self.Tensor(input.size()).fill_(self.real_label)\n",
    "#                 self.real_label_var = torch.tensor(real_tensor, requires_grad=False)\n",
    "#             target_tensor = self.real_label_var\n",
    "#         else:\n",
    "#             create_label = ((self.fake_label_var is None) or\n",
    "#                             (self.fake_label_var.numel() != input.numel()))\n",
    "#             if create_label:\n",
    "#                 fake_tensor = self.Tensor(input.size()).fill_(self.fake_label)\n",
    "#                 self.fake_label_var = torch.tensor(fake_tensor, requires_grad=False)\n",
    "#             target_tensor = self.fake_label_var\n",
    "#         return target_tensor\n",
    "\n",
    "#     def __call__(self, input, target_is_real):        \n",
    "#         target_tensor = self.get_target_tensor(input, target_is_real)\n",
    "#         return self.loss(input,target_tensor.to(torch.device('cpu')))"
   ]
  },
  {
   "attachments": {},
   "cell_type": "markdown",
   "metadata": {},
   "source": [
    "### GAN loss"
   ]
  },
  {
   "cell_type": "code",
   "execution_count": 13,
   "metadata": {},
   "outputs": [],
   "source": [
    "# https://notebook.community/zklgame/CatEyeNets/test/GANs-PyTorch\n",
    "#https://www.researchgate.net/figure/Figure-S36-The-label-input-method-for-the-generator-in-CcGAN_fig5_348834209\n",
    "def bce_loss(input, target):\n",
    "    \"\"\"\n",
    "    Numerically stable version of the binary cross-entropy loss function.\n",
    "\n",
    "    As per https://github.com/pytorch/pytorch/issues/751\n",
    "    See the TensorFlow docs for a derivation of this formula:\n",
    "    https://www.tensorflow.org/api_docs/python/tf/nn/sigmoid_cross_entropy_with_logits\n",
    "\n",
    "    Inputs:\n",
    "    - input: PyTorch Variable of shape (N, ) giving scores.\n",
    "    - target: PyTorch Variable of shape (N,) containing 0 and 1 giving targets.\n",
    "\n",
    "    Returns:\n",
    "    - A PyTorch Variable containing the mean BCE loss over the minibatch of input data.\n",
    "    \"\"\"\n",
    "    neg_abs = - input.abs()\n",
    "    loss = input.clamp(min=0) - input * target + (1 + neg_abs.exp()).log()\n",
    "    return loss.mean()"
   ]
  },
  {
   "cell_type": "code",
   "execution_count": 14,
   "metadata": {},
   "outputs": [],
   "source": [
    "def discriminator_loss(logits_real, logits_fake):\n",
    "    \"\"\"\n",
    "    Computes the discriminator loss described above.\n",
    "    \n",
    "    Inputs:\n",
    "    - logits_real: PyTorch Variable of shape (N,) giving scores for the real data.\n",
    "    - logits_fake: PyTorch Variable of shape (N,) giving scores for the fake data.\n",
    "    \n",
    "    Returns:\n",
    "    - loss: PyTorch Variable containing (scalar) the loss for the discriminator.\n",
    "    \"\"\"\n",
    "    real_loss = bce_loss(logits_real, 1)\n",
    "    fake_loss = bce_loss(logits_fake, 0)\n",
    "    loss = real_loss*0.5 + fake_loss #Have a look at this ? correct?\n",
    "    return loss\n",
    "\n",
    "def generator_loss(logits_fake):\n",
    "    \"\"\"\n",
    "    Computes the generator loss described above.\n",
    "\n",
    "    Inputs:\n",
    "    - logits_fake: PyTorch Variable of shape (N,) giving scores for the fake data.\n",
    "    \n",
    "    Returns:\n",
    "    - loss: PyTorch Variable containing the (scalar) loss for the generator.\n",
    "    \"\"\"\n",
    "    loss = bce_loss(logits_fake, 1)\n",
    "    return loss"
   ]
  },
  {
   "cell_type": "code",
   "execution_count": 15,
   "metadata": {},
   "outputs": [],
   "source": [
    "# answers = np.load(r'C:\\Users\\20181758\\Documents\\gan-checks-tf.npz')\n",
    "# dtype = torch.FloatTensor\n",
    "# from torch.autograd import Variable\n",
    "\n",
    "# def test_discriminator_loss(logits_real, logits_fake, d_loss_true):\n",
    "#     d_loss = discriminator_loss(Variable(torch.Tensor(logits_real)).type(dtype),\n",
    "#                                 Variable(torch.Tensor(logits_fake)).type(dtype)).data.cpu().numpy()\n",
    "#     print(\"Maximum error in d_loss: %g\", abs(1-(d_loss_true/ d_loss)))\n",
    "# \n",
    "# test_discriminator_loss(answers['logits_real'], answers['logits_fake'],\n",
    "#                         answers['d_loss_true'])"
   ]
  },
  {
   "cell_type": "code",
   "execution_count": 16,
   "metadata": {},
   "outputs": [],
   "source": [
    "# def test_generator_loss(logits_fake, g_loss_true):\n",
    "#     g_loss = generator_loss(Variable(torch.Tensor(logits_fake)).type(dtype)).data.cpu().numpy()\n",
    "#     print(\"Maximum error in g_loss: %g\", 1-g_loss_true/ g_loss)\n",
    "\n",
    "# test_generator_loss(answers['logits_fake'], answers['g_loss_true'])"
   ]
  },
  {
   "cell_type": "code",
   "execution_count": 17,
   "metadata": {},
   "outputs": [],
   "source": [
    "def weights_init(m):\n",
    "    classname = m.__class__.__name__\n",
    "    if classname.find('Conv') != -1:\n",
    "        nn.init.normal_(m.weight.data, 0.0, 0.02)\n",
    "    elif classname.find('BatchNorm') != -1:\n",
    "        nn.init.normal_(m.weight.data, 1.0, 0.02)\n",
    "        nn.init.constant_(m.bias.data, 0)"
   ]
  },
  {
   "cell_type": "code",
   "execution_count": 18,
   "metadata": {},
   "outputs": [],
   "source": [
    "\n",
    "epochs = 10\n",
    "lr_gen = 0.0001\n",
    "lr_dis = 0.0001\n",
    "device = torch.device(\"cuda\" if torch.cuda.is_available() else \"cpu\")\n",
    "\n",
    "torch.backends.cudnn.benchmark = True\n",
    "\n",
    "gen = GAN.Generator()\n",
    "dis = GAN.Discriminator()\n",
    "\n",
    "gen = gen.to(device)\n",
    "dis = dis.to(device)\n",
    "\n",
    "noise = torch.randn(32, 256)\n",
    "noise = noise.to(device)\n",
    "\n",
    "\n",
    "gen.apply(weights_init)\n",
    "dis.apply(weights_init)\n",
    "\n",
    "optim_gen = torch.optim.Adam(gen.parameters(), lr=lr_gen, betas=(0.5, 0.999))\n",
    "optim_dis = torch.optim.Adam(dis.parameters(), lr=lr_dis, betas=(0.5, 0.999))"
   ]
  },
  {
   "cell_type": "code",
   "execution_count": null,
   "metadata": {},
   "outputs": [],
   "source": []
  },
  {
   "cell_type": "code",
   "execution_count": 19,
   "metadata": {},
   "outputs": [],
   "source": [
    "\n",
    "# add a learning rate scheduler based on the lr_lambda function\n",
    "scheduler = torch.optim.lr_scheduler.LambdaLR(optim_gen, lr_lambda)"
   ]
  },
  {
   "cell_type": "code",
   "execution_count": 20,
   "metadata": {},
   "outputs": [
    {
     "name": "stderr",
     "output_type": "stream",
     "text": [
      "  0%|          | 0/10 [00:00<?, ?it/s]"
     ]
    },
    {
     "name": "stdout",
     "output_type": "stream",
     "text": [
      "Epoch 1/10\n"
     ]
    },
    {
     "name": "stderr",
     "output_type": "stream",
     "text": [
      "100%|██████████| 29/29 [00:45<00:00,  1.57s/it]\n",
      " 10%|█         | 1/10 [00:45<06:50, 45.56s/it]"
     ]
    },
    {
     "name": "stdout",
     "output_type": "stream",
     "text": [
      "G_loss=  tensor(0.6930, grad_fn=<MeanBackward0>)  : D_Loss=  tensor(0.8500, grad_fn=<AddBackward0>)\n",
      "Epoch 2/10\n"
     ]
    },
    {
     "name": "stderr",
     "output_type": "stream",
     "text": [
      "100%|██████████| 29/29 [00:45<00:00,  1.57s/it]\n",
      " 20%|██        | 2/10 [01:31<06:04, 45.55s/it]"
     ]
    },
    {
     "name": "stdout",
     "output_type": "stream",
     "text": [
      "G_loss=  tensor(0.6924, grad_fn=<MeanBackward0>)  : D_Loss=  tensor(0.8506, grad_fn=<AddBackward0>)\n",
      "Epoch 3/10\n"
     ]
    },
    {
     "name": "stderr",
     "output_type": "stream",
     "text": [
      "100%|██████████| 29/29 [00:44<00:00,  1.53s/it]\n",
      " 30%|███       | 3/10 [02:15<05:15, 45.03s/it]"
     ]
    },
    {
     "name": "stdout",
     "output_type": "stream",
     "text": [
      "G_loss=  tensor(0.6931, grad_fn=<MeanBackward0>)  : D_Loss=  tensor(0.8498, grad_fn=<AddBackward0>)\n",
      "Epoch 4/10\n"
     ]
    },
    {
     "name": "stderr",
     "output_type": "stream",
     "text": [
      "100%|██████████| 29/29 [00:44<00:00,  1.52s/it]\n",
      " 40%|████      | 4/10 [02:59<04:28, 44.68s/it]"
     ]
    },
    {
     "name": "stdout",
     "output_type": "stream",
     "text": [
      "G_loss=  tensor(0.6931, grad_fn=<MeanBackward0>)  : D_Loss=  tensor(0.8498, grad_fn=<AddBackward0>)\n",
      "Epoch 5/10\n"
     ]
    },
    {
     "name": "stderr",
     "output_type": "stream",
     "text": [
      "100%|██████████| 29/29 [00:52<00:00,  1.81s/it]\n",
      " 50%|█████     | 5/10 [03:52<03:57, 47.55s/it]"
     ]
    },
    {
     "name": "stdout",
     "output_type": "stream",
     "text": [
      "G_loss=  tensor(0.6931, grad_fn=<MeanBackward0>)  : D_Loss=  tensor(0.8498, grad_fn=<AddBackward0>)\n",
      "Epoch 6/10\n"
     ]
    },
    {
     "name": "stderr",
     "output_type": "stream",
     "text": [
      "100%|██████████| 29/29 [00:49<00:00,  1.70s/it]\n",
      " 60%|██████    | 6/10 [04:41<03:12, 48.13s/it]"
     ]
    },
    {
     "name": "stdout",
     "output_type": "stream",
     "text": [
      "G_loss=  tensor(0.6931, grad_fn=<MeanBackward0>)  : D_Loss=  tensor(0.8498, grad_fn=<AddBackward0>)\n",
      "Epoch 7/10\n"
     ]
    },
    {
     "name": "stderr",
     "output_type": "stream",
     "text": [
      "100%|██████████| 29/29 [00:45<00:00,  1.57s/it]\n",
      " 70%|███████   | 7/10 [05:27<02:21, 47.32s/it]"
     ]
    },
    {
     "name": "stdout",
     "output_type": "stream",
     "text": [
      "G_loss=  tensor(0.6931, grad_fn=<MeanBackward0>)  : D_Loss=  tensor(0.8498, grad_fn=<AddBackward0>)\n",
      "Epoch 8/10\n"
     ]
    },
    {
     "name": "stderr",
     "output_type": "stream",
     "text": [
      "100%|██████████| 29/29 [00:44<00:00,  1.54s/it]\n",
      " 80%|████████  | 8/10 [06:11<01:33, 46.51s/it]"
     ]
    },
    {
     "name": "stdout",
     "output_type": "stream",
     "text": [
      "G_loss=  tensor(0.6931, grad_fn=<MeanBackward0>)  : D_Loss=  tensor(0.8498, grad_fn=<AddBackward0>)\n",
      "Epoch 9/10\n"
     ]
    },
    {
     "name": "stderr",
     "output_type": "stream",
     "text": [
      "100%|██████████| 29/29 [00:44<00:00,  1.52s/it]\n",
      " 90%|█████████ | 9/10 [06:56<00:45, 45.81s/it]"
     ]
    },
    {
     "name": "stdout",
     "output_type": "stream",
     "text": [
      "G_loss=  tensor(0.6931, grad_fn=<MeanBackward0>)  : D_Loss=  tensor(0.8498, grad_fn=<AddBackward0>)\n",
      "Epoch 10/10\n"
     ]
    },
    {
     "name": "stderr",
     "output_type": "stream",
     "text": [
      "100%|██████████| 29/29 [00:46<00:00,  1.61s/it]\n",
      "100%|██████████| 10/10 [07:43<00:00, 46.30s/it]"
     ]
    },
    {
     "name": "stdout",
     "output_type": "stream",
     "text": [
      "G_loss=  tensor(0.6931, grad_fn=<MeanBackward0>)  : D_Loss=  tensor(0.8498, grad_fn=<AddBackward0>)\n"
     ]
    },
    {
     "name": "stderr",
     "output_type": "stream",
     "text": [
      "\n"
     ]
    }
   ],
   "source": [
    "img_lists = []\n",
    "G_losses = []\n",
    "D_losses = []\n",
    "iters = 0\n",
    "writer = SummaryWriter(log_dir=TENSORBOARD_LOGDIR_GAN)  # tensorboard summary\n",
    "for epoch in tqdm(range(epochs)):\n",
    "    print(f'Epoch {epoch+1}/{epochs}')\n",
    "    for (img, seg) in tqdm(dataloader):\n",
    "        img = img.to(device)\n",
    "        seg = seg.to(device)\n",
    "\n",
    "        seg=seg.float()\n",
    "        \n",
    "        \n",
    "        fake_img = gen(noise,seg)\n",
    "        \n",
    "        # Fake Detection and Loss\n",
    "        pred_fake = dis(fake_img,seg)\n",
    "        #loss_D_fake = criterion(pred_fake, False)\n",
    "        \n",
    "        # Real Detection and Loss\n",
    "        pred_real = dis(img,seg)\n",
    "        #loss_D_real = criterion(pred_real, True)\n",
    "        \n",
    "        loss_G = generator_loss(pred_fake)\n",
    "        loss_D = discriminator_loss(pred_real,pred_fake)\n",
    "        \n",
    "        # Backprop\n",
    "        optim_gen.zero_grad()\n",
    "        loss_G.backward(retain_graph=True)\n",
    "        optim_gen.step()\n",
    "        \n",
    "        optim_dis.zero_grad()\n",
    "        loss_D.backward()\n",
    "        optim_dis.step()\n",
    "        \n",
    "        G_losses.append(loss_G.detach().cpu())\n",
    "        D_losses.append(loss_D.detach().cpu())\n",
    "        \n",
    "        # if i%200 == 0:\n",
    "        #     print(\"Iteration {}/{} started\".format(i+1, len(dataloader)))\n",
    "    writer.add_scalar(\"Loss dis\", loss_D / len(dataloader), epoch)\n",
    "    writer.add_scalar(\"Loss gen\", loss_G / len(dataloader), epoch)  \n",
    "    scheduler.step()   \n",
    "    print(\"G_loss= \",loss_G, \" : D_Loss= \", loss_D)\n",
    "    if (epoch + 1) % 1 == 0:\n",
    "        gen.eval()\n",
    "        img_grid = make_grid(\n",
    "            torch.cat((fake_img[:5], img[:5])), nrow=5, padding=12, pad_value=-1\n",
    "        )\n",
    "        writer.add_image(\n",
    "            \"Real/fake_recon\",\n",
    "            np.clip(img_grid[0][np.newaxis], -1, 1) / 2 + 0.5,\n",
    "            epoch + 1,\n",
    "        )\n",
    "        \n",
    "    if epoch%20 == 0:\n",
    "        with torch.no_grad():\n",
    "            img_lists.append(fake_img.detach().cpu().numpy())\n",
    "            \n",
    "    iters+=1\n",
    "torch.save(gen.state_dict(), CHECKPOINTS_DIR / \"gan.pth\")"
   ]
  },
  {
   "cell_type": "code",
   "execution_count": 23,
   "metadata": {},
   "outputs": [
    {
     "data": {
      "text/html": [
       "\n",
       "      <iframe id=\"tensorboard-frame-815ef6d13b8faa18\" width=\"100%\" height=\"800\" frameborder=\"0\">\n",
       "      </iframe>\n",
       "      <script>\n",
       "        (function() {\n",
       "          const frame = document.getElementById(\"tensorboard-frame-815ef6d13b8faa18\");\n",
       "          const url = new URL(\"http://localhost\");\n",
       "          const port = 6006;\n",
       "          if (port) {\n",
       "            url.port = port;\n",
       "          }\n",
       "          frame.src = url;\n",
       "        })();\n",
       "      </script>\n",
       "    "
      ],
      "text/plain": [
       "<IPython.core.display.HTML object>"
      ]
     },
     "metadata": {},
     "output_type": "display_data"
    }
   ],
   "source": [
    "%load_ext tensorboard\n",
    "%tensorboard --logdir='GAN_runs'"
   ]
  },
  {
   "cell_type": "code",
   "execution_count": 24,
   "metadata": {},
   "outputs": [
    {
     "data": {
      "text/plain": [
       "[<matplotlib.lines.Line2D at 0x28f9f9a1bd0>]"
      ]
     },
     "execution_count": 24,
     "metadata": {},
     "output_type": "execute_result"
    },
    {
     "data": {
      "image/png": "[encoded data removed]",
      "text/plain": [
       "<Figure size 640x480 with 1 Axes>"
      ]
     },
     "metadata": {},
     "output_type": "display_data"
    }
   ],
   "source": [
    "plt.plot(np.arange(0,290),G_losses)\n",
    "plt.plot(np.arange(0,290),D_losses)"
   ]
  },
  {
   "cell_type": "code",
   "execution_count": 27,
   "metadata": {},
   "outputs": [
    {
     "name": "stdout",
     "output_type": "stream",
     "text": [
      "(32, 64, 64)\n"
     ]
    },
    {
     "data": {
      "text/plain": [
       "<matplotlib.image.AxesImage at 0x28f9fc0a6e0>"
      ]
     },
     "execution_count": 27,
     "metadata": {},
     "output_type": "execute_result"
    },
    {
     "data": {
      "image/png": "[encoded data removed]",
      "text/plain": [
       "<Figure size 640x480 with 1 Axes>"
      ]
     },
     "metadata": {},
     "output_type": "display_data"
    }
   ],
   "source": [
    "\n",
    "img = img_lists[0].squeeze()\n",
    "print(img.shape)\n",
    "plt.imshow(img[5],cmap= 'gray')"
   ]
  },
  {
   "cell_type": "code",
   "execution_count": null,
   "metadata": {},
   "outputs": [],
   "source": [
    "\n"
   ]
  },
  {
   "cell_type": "code",
   "execution_count": null,
   "metadata": {},
   "outputs": [],
   "source": [
    "# # training loop\n",
    "# writer = SummaryWriter(log_dir=TENSORBOARD_LOGDIR)  # tensorboard summary\n",
    "# for epoch in range(N_EPOCHS):\n",
    "#     current_train_loss = 0.0\n",
    "#     current_valid_loss = 0.0\n",
    "\n",
    "#     for x_real, _ in tqdm(dataloader, position=0):\n",
    "#         # needed to zero gradients in each iteration\n",
    "#         optimizer.zero_grad()\n",
    "#         x_recon, mu, logvar = vae_model(x_real)  # forward pass\n",
    "#         loss = vae.vae_loss(x_real, x_recon, mu, logvar)\n",
    "#         current_train_loss += loss.item()\n",
    "#         loss.backward()  # backpropagate loss\n",
    "#         optimizer.step()  # update weights\n",
    "\n",
    "#     # write to tensorboard log\n",
    "#     writer.add_scalar(\"Loss/train\", current_train_loss / len(dataloader), epoch)\n",
    "\n",
    "#     scheduler.step()  # step the learning step scheduler\n",
    "\n",
    "    # save examples of real/fake images\n",
    "    # if (epoch + 1) % 1 == 0:\n",
    "    #     vae_model.eval()\n",
    "    #     img_grid = make_grid(\n",
    "    #         torch.cat((x_recon[:5], x_real[:5])), nrow=5, padding=12, pad_value=-1\n",
    "    #     )\n",
    "    #     writer.add_image(\n",
    "    #         \"Real/fake_recon\",\n",
    "    #         np.clip(img_grid[0][np.newaxis], -1, 1) / 2 + 0.5,\n",
    "    #         epoch + 1,\n",
    "    #     )\n",
    "\n",
    "#         noise = torch.randn(10, Z_DIM)\n",
    "#         image_samples = vae_model.generator(noise)\n",
    "#         img_grid = make_grid(\n",
    "#             torch.cat((image_samples[:5], image_samples[5:])),\n",
    "#             nrow=5,\n",
    "#             padding=12,\n",
    "#             pad_value=-1,\n",
    "#         )\n",
    "#         writer.add_image(\n",
    "#             \"Samples\",\n",
    "#             np.clip(img_grid[0][np.newaxis], -1, 1) / 2 + 0.5,\n",
    "#             epoch + 1,\n",
    "#         )\n",
    "\n",
    "#     vae_model.train()\n",
    "\n",
    "\n",
    "# torch.save(vae_model.state_dict(), CHECKPOINTS_DIR / \"vae_model.pth\")"
   ]
  },
  {
   "cell_type": "code",
   "execution_count": null,
   "metadata": {},
   "outputs": [
    {
     "name": "stdout",
     "output_type": "stream",
     "text": [
      "1\n"
     ]
    }
   ],
   "source": [
    "print(1%50)"
   ]
  },
  {
   "cell_type": "code",
   "execution_count": null,
   "metadata": {},
   "outputs": [],
   "source": [
    "# import torch\n",
    "# import torch.nn as nn\n",
    "# from torch.nn.functional import leaky_relu, interpolate\n",
    "# from torch.nn.utils import spectral_norm\n",
    "# import numpy as np\n",
    "# l1_loss = torch.nn.L1Loss()\n",
    "\n",
    "\n",
    "# class Block(nn.Module):\n",
    "#     \"\"\"\n",
    "#     Class for the basic convolutional building block\n",
    "#     \"\"\"\n",
    "\n",
    "#     def __init__(self, in_ch, out_ch):\n",
    "#         \"\"\"\n",
    "#         Constructor.\n",
    "#         :param in_ch: number of input channels to the block\n",
    "#         :param out_ch: number of output channels of the block\n",
    "#         \"\"\"\n",
    "#         super().__init__()\n",
    "#         self.conv1 = nn.Conv2d(in_ch, out_ch, 3, padding=1)\n",
    "#         self.relu = nn.LeakyReLU(0.2, inplace=True)  # leaky ReLU\n",
    "#         self.bn1 = nn.BatchNorm2d(out_ch)  # batch normalisation\n",
    "#         self.conv2 = nn.Conv2d(out_ch, out_ch, 3, padding=1)\n",
    "#         self.bn2 = nn.BatchNorm2d(out_ch) #0.8 weghalen\n",
    "\n",
    "#     def forward(self, x):\n",
    "#         \"\"\"\n",
    "#         Returns the output of a forward pass of the block\n",
    "#         :param x: the input tensor\n",
    "#         :return: the output tensor of the block\n",
    "#         \"\"\"\n",
    "#         # a block consists of two convolutional layers\n",
    "#         # with ReLU activations\n",
    "#         x = self.conv1(x)\n",
    "#         x = self.relu(x)\n",
    "#         x = self.bn1(x)  # batch normalisation\n",
    "#         x = self.conv2(x)\n",
    "#         x = self.relu(x)\n",
    "#         x = self.bn2(x)\n",
    "\n",
    "#         return x\n",
    "    \n",
    "\n",
    "# class Generator(nn.Module):\n",
    "#     \"\"\"\n",
    "#     Class for the generator part of the GAN.\n",
    "#     \"\"\"\n",
    "\n",
    "#     def __init__(self, z_dim=256, chs=(256, 128, 64, 32), h=8, w=8):\n",
    "#         \"\"\"\n",
    "#         Constructor.\n",
    "#         :param chs: tuple giving the number of input channels of each block in the decoder\n",
    "#         \"\"\"\n",
    "#         super().__init__()\n",
    "#         self.chs = chs\n",
    "#         self.h = h  # height of image at lowest resolution level\n",
    "#         self.w = w  # width of image at lowest resolution level\n",
    "#         self.z_dim = z_dim  # dimension of latent space\n",
    "#         self.proj_z = nn.Linear(\n",
    "#             self.z_dim, self.chs[0] * self.h * self.w\n",
    "#         )  # fully connected layer on latent space\n",
    "#         self.reshape = lambda x: torch.reshape(\n",
    "#             x, (-1, self.chs[0], self.h, self.w)\n",
    "#         )  # reshaping\n",
    "\n",
    "#         self.upconvs = nn.ModuleList(\n",
    "#             [nn.ConvTranspose2d(chs[i], chs[i], 2, 2) for i in range(len(chs) - 1)]\n",
    "#         )\n",
    "\n",
    "#         self.dec_blocks = nn.ModuleList(\n",
    "#             [Block(chs[i], chs[i + 1]) for i in range(len(chs) - 1)]\n",
    "#         )\n",
    "#         self.proj_o = nn.Sequential(\n",
    "#             nn.Conv2d(self.chs[-1], 1, kernel_size=3, padding=1),\n",
    "#             nn.Tanh(),\n",
    "#         )  # output layer\n",
    "\n",
    "#     def forward(self, z,seg):\n",
    "#         \"\"\"\n",
    "#         Returns the output of the decoder part of the VAE\n",
    "#         :param x: input tensor to the generator\n",
    "#         \"\"\"\n",
    "       \n",
    "#         b, c, h, w = seg.size()\n",
    "#         x = self.proj_z(z)  # fully connected layer\n",
    "#         x = self.reshape(x)  # reshape to image dimension\n",
    "#         seg=interpolate(seg, size=(seg.size(2)//8, seg.size(3)//8), mode='bilinear')\n",
    "#         print(seg.size())\n",
    "#         print(x.size())\n",
    "#         #print(seg.size(),x.size())\n",
    "#         x=torch.cat((x,seg),dim=0)\n",
    "#         for i in range(len(self.chs) - 1):\n",
    "#             x = self.upconvs[i](x)\n",
    "#             x = self.dec_blocks[i](x)\n",
    "#         x = self.proj_o(x)  # output layer\n",
    "#         return x\n",
    "\n",
    "# # class Generator(nn.Module):\n",
    "# #     def __init__(self):\n",
    "# #         super(Generator, self).__init__()\n",
    "\n",
    "\n",
    "# #         def block(in_feat, out_feat, normalize=True):\n",
    "# #             layers = [nn.Linear(in_feat, out_feat)]\n",
    "# #             if normalize:\n",
    "# #                 layers.append(nn.BatchNorm1d(out_feat, 0.8))\n",
    "# #             layers.append(nn.LeakyReLU(0.2, inplace=True))\n",
    "# #             return layers\n",
    "\n",
    "# #         self.model = nn.Sequential(\n",
    "# #             *block(256, 128, normalize=False),\n",
    "# #             *block(128, 256),\n",
    "# #             nn.Linear(32, 256*8*8),\n",
    "# #             nn.Tanh())\n",
    "# #         self.reshape = lambda x: torch.reshape(\n",
    "# #             x, (32, -1, 8, 8)\n",
    "# #         )  # reshaping\n",
    "\n",
    "\n",
    "# #     def forward(self, noise, labels):\n",
    "# #         # Concatenate label embedding and image to produce input\n",
    "# #         noise=self.reshape(noise)\n",
    "# #         print(noise.size())\n",
    "# #         print(labels.size())\n",
    "# #         seg=interpolate(labels, size=(labels.size(2)//8, labels.size(3)//8), mode='bilinear')\n",
    "# #         gen_input = torch.cat((seg, noise), dim=1)\n",
    "# #         img = self.model(gen_input)\n",
    "# #         img = img.view(img.size(0), (1,64,64))\n",
    "# #         return img\n",
    "\n",
    "# # class Generator(nn.Module):\n",
    "# #     def __init__(self):\n",
    "# #         super().__init__()\n",
    "# #         self.model = nn.Sequential(\n",
    "# #             nn.Linear(256, 256*8*8),\n",
    "# #             nn.ReLU(),\n",
    "# #             nn.Linear(64, 128),\n",
    "# #             nn.ReLU(),\n",
    "# #             nn.Linear(128, 256),\n",
    "# #             nn.ReLU(),\n",
    "# #             nn.Linear(128, 256),\n",
    "# #             nn.ReLU(),\n",
    "# #             nn.Linear(128, 256),\n",
    "# #         )\n",
    "\n",
    "# #     def forward(self, x):\n",
    "# #         output = self.model(x)\n",
    "# #         return output\n",
    "        \n",
    "# def custom_model1(in_chan, out_chan):\n",
    "#     return nn.Sequential(\n",
    "#         spectral_norm(nn.Conv2d(in_chan, out_chan, kernel_size=(3,3), stride=2, padding=1)),\n",
    "#         nn.LeakyReLU(inplace=True)\n",
    "#     )\n",
    "\n",
    "# def custom_model2(in_chan, out_chan, stride=2):\n",
    "#     return nn.Sequential(\n",
    "#         spectral_norm(nn.Conv2d(in_chan, out_chan, kernel_size=(3,3), stride=stride, padding=1)),\n",
    "#         nn.InstanceNorm2d(out_chan),\n",
    "#         nn.LeakyReLU(inplace=True)\n",
    "#     )\n",
    "\n",
    "\n",
    "\n",
    "# class Discriminator(nn.Module):\n",
    "#     def __init__(self):\n",
    "#         super().__init__()\n",
    "#         self.layer1 = custom_model1(32, 64)\n",
    "#         self.layer2 = custom_model2(64, 128)\n",
    "#         self.layer3 = custom_model2(128, 256,stride=1)\n",
    "#         #self.layer4 = custom_model2(256, 512, stride=1)\n",
    "#         self.inst_norm = nn.InstanceNorm2d(256)\n",
    "#         self.conv = spectral_norm(nn.Conv2d(256, 1, kernel_size=(3,3), padding=1))\n",
    "#         # self.out=nn.Sequential(\n",
    "#         #     self.conv,\n",
    "#         #     nn.Sigmoid(),\n",
    "#         # )  # output layer\n",
    "\n",
    "#         self.out = nn.Sequential(nn.Flatten(1), nn.Linear(256,1), nn.Sigmoid())\n",
    "#     def forward(self, img, seg):\n",
    "#        # x = torch.cat((img.view(img.size(0), -1),\n",
    "#                           #seg.view(seg.size(0), -1)), dim=1)\n",
    "#         x = torch.cat(( img.detach(),seg.detach()), dim=1)\n",
    "#         x = x.view(-1, 32, 64, 64)\n",
    "#         x = self.layer1(x)\n",
    "#         x = self.layer2(x)\n",
    "#         x = self.layer3(x)\n",
    "#         #x = self.layer4(x)\n",
    "#         x = leaky_relu(self.inst_norm(x))\n",
    "#         x = self.out(x)\n",
    "#         return x\n",
    "    \n",
    "\n",
    "# def get_noise(n_samples, z_dim, device=\"cpu\"):\n",
    "#     \"\"\"\n",
    "#     Function for creating noise vectors: Given the dimensions (n_samples, z_dim),\n",
    "#     creates a tensor of that shape filled with random numbers from the normal distribution.\n",
    "#     Parameters:\n",
    "#         n_samples: the number of samples to generate, a scalar\n",
    "#         z_dim: the dimension of the noise vector, a scalar\n",
    "#         device: the device type\n",
    "#     \"\"\"\n",
    "#     return torch.randn(n_samples, z_dim, device=device)\n",
    "\n",
    "\n",
    "# def sample_z(mu, logvar):\n",
    "#     \"\"\"\n",
    "#     Samples noise vector with reparameterization trick.\n",
    "#     \"\"\"\n",
    "#     eps = torch.randn(mu.size(), device=mu.device).to(mu.dtype)\n",
    "#     return (logvar / 2).exp() * eps + mu\n",
    "\n",
    "\n",
    "# def kld_loss(mu, logvar):\n",
    "#     \"\"\"\n",
    "#     Returns KLD loss\n",
    "#     \"\"\"\n",
    "#     return -0.5 * torch.mean(1 + logvar - mu.pow(2) - logvar.exp())\n",
    "\n",
    "\n",
    "# def vae_loss(inputs, recons, mu, logvar):\n",
    "#     \"\"\"\n",
    "#     Returns VAE loss, sum of reconstruction and KLD loss\n",
    "#     \"\"\"\n",
    "#     return l1_loss(inputs, recons) + kld_loss(mu, logvar)\n"
   ]
  }
 ],
 "metadata": {
  "kernelspec": {
   "display_name": "8DM20",
   "language": "python",
   "name": "python3"
  },
  "language_info": {
   "codemirror_mode": {
    "name": "ipython",
    "version": 3
   },
   "file_extension": ".py",
   "mimetype": "text/x-python",
   "name": "python",
   "nbconvert_exporter": "python",
   "pygments_lexer": "ipython3",
   "version": "3.10.9"
  },
  "orig_nbformat": 4
 },
 "nbformat": 4,
 "nbformat_minor": 2
}
