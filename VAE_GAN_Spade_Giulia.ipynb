{
 "cells": [
  {
   "cell_type": "code",
   "execution_count": 1,
   "metadata": {},
   "outputs": [
    {
     "name": "stderr",
     "output_type": "stream",
     "text": [
      "C:\\Users\\20191679\\.conda\\envs\\gen_models\\lib\\site-packages\\tqdm\\auto.py:22: TqdmWarning: IProgress not found. Please update jupyter and ipywidgets. See https://ipywidgets.readthedocs.io/en/stable/user_install.html\n",
      "  from .autonotebook import tqdm as notebook_tqdm\n"
     ]
    }
   ],
   "source": [
    "import random\n",
    "from pathlib import Path\n",
    "import torch\n",
    "import torch.nn.functional as F\n",
    "from torch.nn import UpsamplingNearest2d\n",
    "from torch.nn.utils import spectral_norm\n",
    "from torch.distributions import Normal\n",
    "import torch\n",
    "from pathlib import Path\n",
    "from torch import nn\n",
    "import pdb\n",
    "from torch.utils.tensorboard import SummaryWriter\n",
    "from tqdm import tqdm\n",
    "#import u_net\n",
    "import utils\n",
    "import glob\n",
    "from torchvision.io import read_image\n",
    "import os\n",
    "from torchvision.models import vgg16\n",
    "import torchvision.transforms as T\n",
    "import torch\n",
    "import os\n",
    "#import vae\n",
    "from torch.utils.data import DataLoader\n",
    "import numpy as np\n",
    "#import GAN_Lars\n",
    "from torch.utils.tensorboard import SummaryWriter\n",
    "from torchvision.utils import make_grid\n",
    "from torchsummary import summary"
   ]
  },
  {
   "cell_type": "code",
   "execution_count": 2,
   "metadata": {},
   "outputs": [],
   "source": [
    "random.seed(42)\n",
    "DATA_DIR = r\"C:\\Users\\20191679\\Documents\\Master\\CS_image_analysis\\TrainingData\\TrainingData\"\n",
    "CHECKPOINTS_DIR = Path.cwd() / \"vae_spade_weights\"\n",
    "CHECKPOINTS_DIR.mkdir(parents=True, exist_ok=True)\n",
    "\n",
    "#Save results to tensorboard\n",
    "TENSORBOARD_LOGDIR_GAN = \"GAN_runs\""
   ]
  },
  {
   "cell_type": "code",
   "execution_count": 3,
   "metadata": {},
   "outputs": [],
   "source": [
    "# training settings and hyperparameters\n",
    "NO_VALIDATION_PATIENTS = 1 #I think we wanted to generate images on whole dataset so this should be 0?\n",
    "IMAGE_SIZE = [64, 64]\n",
    "BATCH_SIZE = 32\n",
    "N_EPOCHS = 10\n",
    "DECAY_LR_AFTER = 50\n",
    "LEARNING_RATE = 1e-4\n",
    "DISPLAY_FREQ = 10\n",
    "\n",
    "# dimension of VAE latent space\n",
    "Z_DIM = 256"
   ]
  },
  {
   "cell_type": "code",
   "execution_count": 4,
   "metadata": {},
   "outputs": [],
   "source": [
    "def lr_lambda(the_epoch):\n",
    "    \"\"\"Function for scheduling learning rate\"\"\"\n",
    "    return (\n",
    "        1.0\n",
    "        if the_epoch < DECAY_LR_AFTER\n",
    "        else 1 - float(the_epoch - DECAY_LR_AFTER) / (N_EPOCHS - DECAY_LR_AFTER)\n",
    "    )"
   ]
  },
  {
   "cell_type": "code",
   "execution_count": 5,
   "metadata": {},
   "outputs": [
    {
     "data": {
      "text/plain": [
       "['C:\\\\Users\\\\20191679\\\\Documents\\\\Master\\\\CS_image_analysis\\\\TrainingData\\\\TrainingData\\\\p120',\n",
       " 'C:\\\\Users\\\\20191679\\\\Documents\\\\Master\\\\CS_image_analysis\\\\TrainingData\\\\TrainingData\\\\p116',\n",
       " 'C:\\\\Users\\\\20191679\\\\Documents\\\\Master\\\\CS_image_analysis\\\\TrainingData\\\\TrainingData\\\\p108',\n",
       " 'C:\\\\Users\\\\20191679\\\\Documents\\\\Master\\\\CS_image_analysis\\\\TrainingData\\\\TrainingData\\\\p125',\n",
       " 'C:\\\\Users\\\\20191679\\\\Documents\\\\Master\\\\CS_image_analysis\\\\TrainingData\\\\TrainingData\\\\p127',\n",
       " 'C:\\\\Users\\\\20191679\\\\Documents\\\\Master\\\\CS_image_analysis\\\\TrainingData\\\\TrainingData\\\\p117',\n",
       " 'C:\\\\Users\\\\20191679\\\\Documents\\\\Master\\\\CS_image_analysis\\\\TrainingData\\\\TrainingData\\\\p133',\n",
       " 'C:\\\\Users\\\\20191679\\\\Documents\\\\Master\\\\CS_image_analysis\\\\TrainingData\\\\TrainingData\\\\p109',\n",
       " 'C:\\\\Users\\\\20191679\\\\Documents\\\\Master\\\\CS_image_analysis\\\\TrainingData\\\\TrainingData\\\\p115',\n",
       " 'C:\\\\Users\\\\20191679\\\\Documents\\\\Master\\\\CS_image_analysis\\\\TrainingData\\\\TrainingData\\\\p102',\n",
       " 'C:\\\\Users\\\\20191679\\\\Documents\\\\Master\\\\CS_image_analysis\\\\TrainingData\\\\TrainingData\\\\p107']"
      ]
     },
     "execution_count": 5,
     "metadata": {},
     "output_type": "execute_result"
    }
   ],
   "source": [
    "patients = [\n",
    "    path\n",
    "    for path in glob.glob(DATA_DIR+r\"\\p*\")\n",
    "]\n",
    "\n",
    "random.shuffle(patients)\n",
    "\n",
    "# split in training/validation after shuffling\n",
    "partition = {\n",
    "    \"train\": patients[:-NO_VALIDATION_PATIENTS],\n",
    "    \"validation\": patients[-NO_VALIDATION_PATIENTS:],\n",
    "}\n",
    "\n",
    "partition['train']"
   ]
  },
  {
   "cell_type": "code",
   "execution_count": 6,
   "metadata": {},
   "outputs": [],
   "source": [
    "dataset = utils.ProstateMRDataset(partition[\"train\"], IMAGE_SIZE)\n",
    "dataloader = DataLoader(\n",
    "    dataset,\n",
    "    batch_size=BATCH_SIZE,\n",
    "    shuffle=True,\n",
    "    drop_last=True,\n",
    "    pin_memory=True,)"
   ]
  },
  {
   "cell_type": "code",
   "execution_count": 7,
   "metadata": {},
   "outputs": [
    {
     "name": "stdout",
     "output_type": "stream",
     "text": [
      "Feature batch shape: torch.Size([32, 1, 64, 64])\n",
      "Labels batch shape: torch.Size([32, 1, 64, 64])\n"
     ]
    },
    {
     "data": {
      "image/png": "[encoded data removed]",
      "text/plain": [
       "<Figure size 432x288 with 1 Axes>"
      ]
     },
     "metadata": {
      "needs_background": "light"
     },
     "output_type": "display_data"
    },
    {
     "name": "stdout",
     "output_type": "stream",
     "text": [
      "Label: tensor([[0, 0, 0,  ..., 0, 0, 0],\n",
      "        [0, 0, 0,  ..., 0, 0, 0],\n",
      "        [0, 0, 0,  ..., 0, 0, 0],\n",
      "        ...,\n",
      "        [0, 0, 0,  ..., 0, 0, 0],\n",
      "        [0, 0, 0,  ..., 0, 0, 0],\n",
      "        [0, 0, 0,  ..., 0, 0, 0]], dtype=torch.int32)\n",
      "img: tensor([[-0.2423, -0.0737,  0.0330,  ...,  0.4274,  0.3837,  0.3575],\n",
      "        [ 0.0223,  0.2467,  0.3483,  ...,  0.1457,  0.3493,  0.2652],\n",
      "        [-0.6800, -0.8333, -0.5341,  ...,  0.1063,  0.3852,  0.5044],\n",
      "        ...,\n",
      "        [ 2.3757,  1.9672, -0.2122,  ...,  1.3052,  2.2390,  2.1840],\n",
      "        [-0.6700, -0.5730, -0.9163,  ...,  1.8955,  0.7381, -0.1023],\n",
      "        [-0.5444, -0.7394, -0.7713,  ...,  0.0360,  0.1093,  0.2939]])\n"
     ]
    }
   ],
   "source": [
    "import matplotlib.pyplot as plt\n",
    "train_features, train_labels = next(iter(dataloader))\n",
    "print(f\"Feature batch shape: {train_features.size()}\")\n",
    "print(f\"Labels batch shape: {train_labels.size()}\")\n",
    "\n",
    "\n",
    "img = train_features[0].squeeze()\n",
    "label = train_labels[0].squeeze()\n",
    "\n",
    "#plt.imshow(img, cmap=\"gray\")\n",
    "plt.imshow(label,cmap='gray',)\n",
    "plt.show()\n",
    "print(f\"Label: {label}\")\n",
    "print(f\"img: {img}\")\n"
   ]
  },
  {
   "cell_type": "code",
   "execution_count": null,
   "metadata": {},
   "outputs": [],
   "source": [
    "\n"
   ]
  },
  {
   "cell_type": "code",
   "execution_count": null,
   "metadata": {},
   "outputs": [],
   "source": []
  },
  {
   "cell_type": "code",
   "execution_count": 8,
   "metadata": {},
   "outputs": [
    {
     "name": "stdout",
     "output_type": "stream",
     "text": [
      "torch.Size([32, 1, 64, 64])\n",
      "torch.Size([16, 16])\n"
     ]
    },
    {
     "name": "stderr",
     "output_type": "stream",
     "text": [
      "C:\\Users\\20191679\\.conda\\envs\\gen_models\\lib\\site-packages\\torch\\nn\\functional.py:3680: UserWarning: The default behavior for interpolate/upsample with float scale_factor changed in 1.6.0 to align with other frameworks/libraries, and now uses scale_factor directly, instead of relying on the computed output size. If you wish to restore the old behavior, please set recompute_scale_factor=True. See the documentation of nn.Upsample for details. \n",
      "  \"The default behavior for interpolate/upsample with float scale_factor changed \"\n"
     ]
    },
    {
     "data": {
      "image/png": "[encoded data removed]",
      "text/plain": [
       "<Figure size 432x288 with 1 Axes>"
      ]
     },
     "metadata": {
      "needs_background": "light"
     },
     "output_type": "display_data"
    }
   ],
   "source": [
    "down=torch.nn.UpsamplingBilinear2d(scale_factor=1/4)\n",
    "print(train_labels.size())\n",
    "train_labels=down(train_labels.type(torch.float32))\n",
    "label = train_labels[0].squeeze()\n",
    "plt.imshow(label,cmap='gray')\n",
    "print(label.size())"
   ]
  },
  {
   "cell_type": "code",
   "execution_count": 9,
   "metadata": {},
   "outputs": [
    {
     "name": "stdout",
     "output_type": "stream",
     "text": [
      "torch.Size([1, 16, 16])\n",
      "torch.Size([16, 16])\n"
     ]
    },
    {
     "data": {
      "text/plain": [
       "<matplotlib.image.AxesImage at 0x1ab02acf908>"
      ]
     },
     "execution_count": 9,
     "metadata": {},
     "output_type": "execute_result"
    },
    {
     "data": {
      "image/png": "[encoded data removed]",
      "text/plain": [
       "<Figure size 432x288 with 1 Axes>"
      ]
     },
     "metadata": {
      "needs_background": "light"
     },
     "output_type": "display_data"
    }
   ],
   "source": [
    "import torchvision.transforms as transforms\n",
    "\n",
    "\n",
    "img_transform = transforms.Compose(\n",
    "    [\n",
    "        transforms.ToPILImage(),\n",
    "        transforms.CenterCrop(64),\n",
    "        transforms.Resize([16,16]),\n",
    "        transforms.ToTensor(),\n",
    "    ]\n",
    ")\n",
    "\n",
    "\n",
    "\n",
    "labeld=img_transform(train_labels[0])\n",
    "print(labeld.size(\n",
    "))\n",
    "label = labeld[0].squeeze()\n",
    "print(label.size())\n",
    "plt.imshow(label,cmap='gray')"
   ]
  },
  {
   "cell_type": "code",
   "execution_count": 10,
   "metadata": {},
   "outputs": [],
   "source": [
    "# load validation data\n",
    "valid_dataset = utils.ProstateMRDataset(partition[\"validation\"], IMAGE_SIZE)\n",
    "valid_dataloader = DataLoader(\n",
    "    valid_dataset,\n",
    "    batch_size=BATCH_SIZE,\n",
    "    shuffle=True,\n",
    "    drop_last=True,\n",
    "    pin_memory=True,\n",
    ")"
   ]
  },
  {
   "cell_type": "code",
   "execution_count": 11,
   "metadata": {},
   "outputs": [],
   "source": [
    "import VAE_GAN_Spade_Giulia"
   ]
  },
  {
   "cell_type": "code",
   "execution_count": 12,
   "metadata": {},
   "outputs": [],
   "source": [
    "\n",
    "lr_gen = 0.0002\n",
    "lr_dis=0.00005\n",
    "device = torch.device(\"cuda\" if torch.cuda.is_available() else \"cpu\")\n",
    "\n",
    "torch.backends.cudnn.benchmark = True\n",
    "\n",
    "vae=VAE_GAN_Spade_Giulia.VAE()\n",
    "dis=VAE_GAN_Spade_Giulia.Discriminator()\n",
    "\n",
    "\n",
    "noise = torch.randn(32, 255)\n",
    "noise = noise.to(device)\n",
    "#criterion=GANLoss()\n",
    "\n",
    "\n",
    "opt_gen = torch.optim.Adam(vae.generator.parameters(), lr=LEARNING_RATE)\n",
    "opt_enc=torch.optim.Adam(vae.encoder.parameters(), lr=LEARNING_RATE)\n",
    "#opt_gen= torch.optim.Adam(gen.parameters(), lr=lr_gen)\n",
    "opt_dis= torch.optim.Adam(dis.parameters(), lr=lr_dis)\n",
    "\n",
    "TENSORBOARD_LOGDIR='vae_gan'"
   ]
  },
  {
   "cell_type": "code",
   "execution_count": 13,
   "metadata": {},
   "outputs": [],
   "source": [
    "def saveModels():\n",
    "    torch.save(vae.generator.state_dict(), CHECKPOINTS_DIR / \"vae_enc.pth\")\n",
    "    torch.save(dis.state_dict(), CHECKPOINTS_DIR / \"vae_dis.pth\")\n",
    "    torch.save(vae.encoder.state_dict(), CHECKPOINTS_DIR / \"vae_gen.pth\")\n",
    "\n",
    "\n",
    "scheduler = torch.optim.lr_scheduler.LambdaLR(opt_enc, lr_lambda)\n",
    "scheduler = torch.optim.lr_scheduler.LambdaLR(opt_gen, lr_lambda)"
   ]
  },
  {
   "cell_type": "code",
   "execution_count": 14,
   "metadata": {},
   "outputs": [],
   "source": [
    "# https://notebook.community/zklgame/CatEyeNets/test/GANs-PyTorch\n",
    "#https://www.researchgate.net/figure/Figure-S36-The-label-input-method-for-the-generator-in-CcGAN_fig5_348834209\n",
    "def bce_loss(input, target):\n",
    "    \"\"\"\n",
    "    Numerically stable version of the binary cross-entropy loss function.\n",
    "\n",
    "    As per https://github.com/pytorch/pytorch/issues/751\n",
    "    See the TensorFlow docs for a derivation of this formula:\n",
    "    https://www.tensorflow.org/api_docs/python/tf/nn/sigmoid_cross_entropy_with_logits\n",
    "\n",
    "    Inputs:\n",
    "    - input: PyTorch Variable of shape (N, ) giving scores.\n",
    "    - target: PyTorch Variable of shape (N,) containing 0 and 1 giving targets.\n",
    "\n",
    "    Returns:\n",
    "    - A PyTorch Variable containing the mean BCE loss over the minibatch of input data.\n",
    "    \"\"\"\n",
    "    #neg_abs = - input.abs()\n",
    "    #loss = input.clamp(min=0) - input * target + (1 + neg_abs.exp()).log()\n",
    "    BCE=torch.nn.BCELoss()\n",
    "    loss=BCE(input,target)\n",
    "    return loss"
   ]
  },
  {
   "cell_type": "code",
   "execution_count": 15,
   "metadata": {},
   "outputs": [],
   "source": [
    "def discriminator_loss(logits_real, logits_fake):\n",
    "    \"\"\"\n",
    "    Computes the discriminator loss described above.\n",
    "    \n",
    "    Inputs:\n",
    "    - logits_real: PyTorch Variable of shape (N,) giving scores for the real data.\n",
    "    - logits_fake: PyTorch Variable of shape (N,) giving scores for the fake data.\n",
    "    \n",
    "    Returns:\n",
    "    - loss: PyTorch Variable containing (scalar) the loss for the discriminator.\n",
    "    \"\"\"\n",
    "    real_loss = bce_loss(logits_real, torch.ones(BATCH_SIZE,1))\n",
    "    fake_loss = bce_loss(logits_fake, torch.zeros(BATCH_SIZE,1))\n",
    "    loss = (real_loss + fake_loss) #Have a look at this ? correct?\n",
    "    return loss\n",
    "\n",
    "def generator_loss(logits_fake):\n",
    "    \"\"\"\n",
    "    Computes the generator loss described above.\n",
    "\n",
    "    Inputs:\n",
    "    - logits_fake: PyTorch Variable of shape (N,) giving scores for the fake data.\n",
    "    \n",
    "    Returns:\n",
    "    - loss: PyTorch Variable containing the (scalar) loss for the generator.\n",
    "    \"\"\"\n",
    "    loss = bce_loss(logits_fake, torch.ones(BATCH_SIZE,1))\n",
    "    return loss"
   ]
  },
  {
   "cell_type": "code",
   "execution_count": 17,
   "metadata": {},
   "outputs": [
    {
     "name": "stderr",
     "output_type": "stream",
     "text": [
      "\r",
      "  0%|                                                                                           | 0/10 [00:00<?, ?it/s]"
     ]
    },
    {
     "name": "stdout",
     "output_type": "stream",
     "text": [
      "Epoch 1/10\n"
     ]
    },
    {
     "name": "stderr",
     "output_type": "stream",
     "text": [
      "\n",
      "  0%|                                                                                           | 0/29 [00:00<?, ?it/s]\u001b[AC:\\Users\\20191679\\.conda\\envs\\gen_models\\lib\\site-packages\\torch\\autograd\\__init__.py:156: UserWarning: Error detected in AddmmBackward0. Traceback of forward call that caused the error:\n",
      "  File \"C:\\Users\\20191679\\.conda\\envs\\gen_models\\lib\\runpy.py\", line 193, in _run_module_as_main\n",
      "    \"__main__\", mod_spec)\n",
      "  File \"C:\\Users\\20191679\\.conda\\envs\\gen_models\\lib\\runpy.py\", line 85, in _run_code\n",
      "    exec(code, run_globals)\n",
      "  File \"C:\\Users\\20191679\\.conda\\envs\\gen_models\\lib\\site-packages\\ipykernel_launcher.py\", line 16, in <module>\n",
      "    app.launch_new_instance()\n",
      "  File \"C:\\Users\\20191679\\.conda\\envs\\gen_models\\lib\\site-packages\\traitlets\\config\\application.py\", line 664, in launch_instance\n",
      "    app.start()\n",
      "  File \"C:\\Users\\20191679\\.conda\\envs\\gen_models\\lib\\site-packages\\ipykernel\\kernelapp.py\", line 612, in start\n",
      "    self.io_loop.start()\n",
      "  File \"C:\\Users\\20191679\\.conda\\envs\\gen_models\\lib\\site-packages\\tornado\\platform\\asyncio.py\", line 199, in start\n",
      "    self.asyncio_loop.run_forever()\n",
      "  File \"C:\\Users\\20191679\\.conda\\envs\\gen_models\\lib\\asyncio\\base_events.py\", line 442, in run_forever\n",
      "    self._run_once()\n",
      "  File \"C:\\Users\\20191679\\.conda\\envs\\gen_models\\lib\\asyncio\\base_events.py\", line 1462, in _run_once\n",
      "    handle._run()\n",
      "  File \"C:\\Users\\20191679\\.conda\\envs\\gen_models\\lib\\asyncio\\events.py\", line 145, in _run\n",
      "    self._callback(*self._args)\n",
      "  File \"C:\\Users\\20191679\\.conda\\envs\\gen_models\\lib\\site-packages\\tornado\\ioloop.py\", line 688, in <lambda>\n",
      "    lambda f: self._run_callback(functools.partial(callback, future))\n",
      "  File \"C:\\Users\\20191679\\.conda\\envs\\gen_models\\lib\\site-packages\\tornado\\ioloop.py\", line 741, in _run_callback\n",
      "    ret = callback()\n",
      "  File \"C:\\Users\\20191679\\.conda\\envs\\gen_models\\lib\\site-packages\\tornado\\gen.py\", line 814, in inner\n",
      "    self.ctx_run(self.run)\n",
      "  File \"C:\\Users\\20191679\\.conda\\envs\\gen_models\\lib\\site-packages\\tornado\\gen.py\", line 162, in _fake_ctx_run\n",
      "    return f(*args, **kw)\n",
      "  File \"C:\\Users\\20191679\\.conda\\envs\\gen_models\\lib\\site-packages\\tornado\\gen.py\", line 775, in run\n",
      "    yielded = self.gen.send(value)\n",
      "  File \"C:\\Users\\20191679\\.conda\\envs\\gen_models\\lib\\site-packages\\ipykernel\\kernelbase.py\", line 365, in process_one\n",
      "    yield gen.maybe_future(dispatch(*args))\n",
      "  File \"C:\\Users\\20191679\\.conda\\envs\\gen_models\\lib\\site-packages\\tornado\\gen.py\", line 234, in wrapper\n",
      "    yielded = ctx_run(next, result)\n",
      "  File \"C:\\Users\\20191679\\.conda\\envs\\gen_models\\lib\\site-packages\\tornado\\gen.py\", line 162, in _fake_ctx_run\n",
      "    return f(*args, **kw)\n",
      "  File \"C:\\Users\\20191679\\.conda\\envs\\gen_models\\lib\\site-packages\\ipykernel\\kernelbase.py\", line 268, in dispatch_shell\n",
      "    yield gen.maybe_future(handler(stream, idents, msg))\n",
      "  File \"C:\\Users\\20191679\\.conda\\envs\\gen_models\\lib\\site-packages\\tornado\\gen.py\", line 234, in wrapper\n",
      "    yielded = ctx_run(next, result)\n",
      "  File \"C:\\Users\\20191679\\.conda\\envs\\gen_models\\lib\\site-packages\\tornado\\gen.py\", line 162, in _fake_ctx_run\n",
      "    return f(*args, **kw)\n",
      "  File \"C:\\Users\\20191679\\.conda\\envs\\gen_models\\lib\\site-packages\\ipykernel\\kernelbase.py\", line 545, in execute_request\n",
      "    user_expressions, allow_stdin,\n",
      "  File \"C:\\Users\\20191679\\.conda\\envs\\gen_models\\lib\\site-packages\\tornado\\gen.py\", line 234, in wrapper\n",
      "    yielded = ctx_run(next, result)\n",
      "  File \"C:\\Users\\20191679\\.conda\\envs\\gen_models\\lib\\site-packages\\tornado\\gen.py\", line 162, in _fake_ctx_run\n",
      "    return f(*args, **kw)\n",
      "  File \"C:\\Users\\20191679\\.conda\\envs\\gen_models\\lib\\site-packages\\ipykernel\\ipkernel.py\", line 306, in do_execute\n",
      "    res = shell.run_cell(code, store_history=store_history, silent=silent)\n",
      "  File \"C:\\Users\\20191679\\.conda\\envs\\gen_models\\lib\\site-packages\\ipykernel\\zmqshell.py\", line 536, in run_cell\n",
      "    return super(ZMQInteractiveShell, self).run_cell(*args, **kwargs)\n",
      "  File \"C:\\Users\\20191679\\.conda\\envs\\gen_models\\lib\\site-packages\\IPython\\core\\interactiveshell.py\", line 2867, in run_cell\n",
      "    raw_cell, store_history, silent, shell_futures)\n",
      "  File \"C:\\Users\\20191679\\.conda\\envs\\gen_models\\lib\\site-packages\\IPython\\core\\interactiveshell.py\", line 2895, in _run_cell\n",
      "    return runner(coro)\n",
      "  File \"C:\\Users\\20191679\\.conda\\envs\\gen_models\\lib\\site-packages\\IPython\\core\\async_helpers.py\", line 68, in _pseudo_sync_runner\n",
      "    coro.send(None)\n",
      "  File \"C:\\Users\\20191679\\.conda\\envs\\gen_models\\lib\\site-packages\\IPython\\core\\interactiveshell.py\", line 3072, in run_cell_async\n",
      "    interactivity=interactivity, compiler=compiler, result=result)\n",
      "  File \"C:\\Users\\20191679\\.conda\\envs\\gen_models\\lib\\site-packages\\IPython\\core\\interactiveshell.py\", line 3263, in run_ast_nodes\n",
      "    if (await self.run_code(code, result,  async_=asy)):\n",
      "  File \"C:\\Users\\20191679\\.conda\\envs\\gen_models\\lib\\site-packages\\IPython\\core\\interactiveshell.py\", line 3343, in run_code\n",
      "    exec(code_obj, self.user_global_ns, self.user_ns)\n",
      "  File \"<ipython-input-17-2f19c3ecc67c>\", line 20, in <module>\n",
      "    fake_img, mu, logvar  = vae(img,seg) #remove seg if you want to train without labels\n",
      "  File \"C:\\Users\\20191679\\.conda\\envs\\gen_models\\lib\\site-packages\\torch\\nn\\modules\\module.py\", line 1102, in _call_impl\n",
      "    return forward_call(*input, **kwargs)\n",
      "  File \"C:\\Users\\20191679\\Documents\\GitHub\\Capita_selecta\\VAE_GAN_Spade_Giulia.py\", line 285, in forward\n",
      "    mu, logvar = self.encoder(x)\n",
      "  File \"C:\\Users\\20191679\\.conda\\envs\\gen_models\\lib\\site-packages\\torch\\nn\\modules\\module.py\", line 1102, in _call_impl\n",
      "    return forward_call(*input, **kwargs)\n",
      "  File \"C:\\Users\\20191679\\Documents\\GitHub\\Capita_selecta\\VAE_GAN_Spade_Giulia.py\", line 176, in forward\n",
      "    x = self.out(x)\n",
      "  File \"C:\\Users\\20191679\\.conda\\envs\\gen_models\\lib\\site-packages\\torch\\nn\\modules\\module.py\", line 1102, in _call_impl\n",
      "    return forward_call(*input, **kwargs)\n",
      "  File \"C:\\Users\\20191679\\.conda\\envs\\gen_models\\lib\\site-packages\\torch\\nn\\modules\\container.py\", line 141, in forward\n",
      "    input = module(input)\n",
      "  File \"C:\\Users\\20191679\\.conda\\envs\\gen_models\\lib\\site-packages\\torch\\nn\\modules\\module.py\", line 1102, in _call_impl\n",
      "    return forward_call(*input, **kwargs)\n",
      "  File \"C:\\Users\\20191679\\.conda\\envs\\gen_models\\lib\\site-packages\\torch\\nn\\modules\\linear.py\", line 103, in forward\n",
      "    return F.linear(input, self.weight, self.bias)\n",
      "  File \"C:\\Users\\20191679\\.conda\\envs\\gen_models\\lib\\site-packages\\torch\\nn\\functional.py\", line 1848, in linear\n",
      "    return torch._C._nn.linear(input, weight, bias)\n",
      " (Triggered internally at  ..\\torch\\csrc\\autograd\\python_anomaly_mode.cpp:104.)\n",
      "  allow_unreachable=True, accumulate_grad=True)  # allow_unreachable flag\n",
      "  0%|                                                                                           | 0/29 [00:09<?, ?it/s]\n",
      "  0%|                                                                                           | 0/10 [00:09<?, ?it/s]\n"
     ]
    },
    {
     "ename": "RuntimeError",
     "evalue": "one of the variables needed for gradient computation has been modified by an inplace operation: [torch.FloatTensor [16384, 512]], which is output 0 of AsStridedBackward0, is at version 3; expected version 2 instead. Hint: the backtrace further above shows the operation that failed to compute its gradient. The variable in question was changed in there or anywhere later. Good luck!",
     "output_type": "error",
     "traceback": [
      "\u001b[1;31m---------------------------------------------------------------------------\u001b[0m",
      "\u001b[1;31mRuntimeError\u001b[0m                              Traceback (most recent call last)",
      "\u001b[1;32m<ipython-input-17-2f19c3ecc67c>\u001b[0m in \u001b[0;36m<module>\u001b[1;34m\u001b[0m\n\u001b[0;32m     48\u001b[0m         \u001b[0mopt_gen\u001b[0m\u001b[1;33m.\u001b[0m\u001b[0mzero_grad\u001b[0m\u001b[1;33m(\u001b[0m\u001b[1;33m)\u001b[0m\u001b[1;33m\u001b[0m\u001b[1;33m\u001b[0m\u001b[0m\n\u001b[0;32m     49\u001b[0m \u001b[1;33m\u001b[0m\u001b[0m\n\u001b[1;32m---> 50\u001b[1;33m         \u001b[0mloss_G\u001b[0m\u001b[1;33m.\u001b[0m\u001b[0mbackward\u001b[0m\u001b[1;33m(\u001b[0m\u001b[0mretain_graph\u001b[0m\u001b[1;33m=\u001b[0m\u001b[1;32mTrue\u001b[0m\u001b[1;33m)\u001b[0m\u001b[1;33m\u001b[0m\u001b[1;33m\u001b[0m\u001b[0m\n\u001b[0m\u001b[0;32m     51\u001b[0m \u001b[1;33m\u001b[0m\u001b[0m\n\u001b[0;32m     52\u001b[0m         \u001b[0mopt_gen\u001b[0m\u001b[1;33m.\u001b[0m\u001b[0mstep\u001b[0m\u001b[1;33m(\u001b[0m\u001b[1;33m)\u001b[0m\u001b[1;33m\u001b[0m\u001b[1;33m\u001b[0m\u001b[0m\n",
      "\u001b[1;32m~\\.conda\\envs\\gen_models\\lib\\site-packages\\torch\\_tensor.py\u001b[0m in \u001b[0;36mbackward\u001b[1;34m(self, gradient, retain_graph, create_graph, inputs)\u001b[0m\n\u001b[0;32m    305\u001b[0m                 \u001b[0mcreate_graph\u001b[0m\u001b[1;33m=\u001b[0m\u001b[0mcreate_graph\u001b[0m\u001b[1;33m,\u001b[0m\u001b[1;33m\u001b[0m\u001b[1;33m\u001b[0m\u001b[0m\n\u001b[0;32m    306\u001b[0m                 inputs=inputs)\n\u001b[1;32m--> 307\u001b[1;33m         \u001b[0mtorch\u001b[0m\u001b[1;33m.\u001b[0m\u001b[0mautograd\u001b[0m\u001b[1;33m.\u001b[0m\u001b[0mbackward\u001b[0m\u001b[1;33m(\u001b[0m\u001b[0mself\u001b[0m\u001b[1;33m,\u001b[0m \u001b[0mgradient\u001b[0m\u001b[1;33m,\u001b[0m \u001b[0mretain_graph\u001b[0m\u001b[1;33m,\u001b[0m \u001b[0mcreate_graph\u001b[0m\u001b[1;33m,\u001b[0m \u001b[0minputs\u001b[0m\u001b[1;33m=\u001b[0m\u001b[0minputs\u001b[0m\u001b[1;33m)\u001b[0m\u001b[1;33m\u001b[0m\u001b[1;33m\u001b[0m\u001b[0m\n\u001b[0m\u001b[0;32m    308\u001b[0m \u001b[1;33m\u001b[0m\u001b[0m\n\u001b[0;32m    309\u001b[0m     \u001b[1;32mdef\u001b[0m \u001b[0mregister_hook\u001b[0m\u001b[1;33m(\u001b[0m\u001b[0mself\u001b[0m\u001b[1;33m,\u001b[0m \u001b[0mhook\u001b[0m\u001b[1;33m)\u001b[0m\u001b[1;33m:\u001b[0m\u001b[1;33m\u001b[0m\u001b[1;33m\u001b[0m\u001b[0m\n",
      "\u001b[1;32m~\\.conda\\envs\\gen_models\\lib\\site-packages\\torch\\autograd\\__init__.py\u001b[0m in \u001b[0;36mbackward\u001b[1;34m(tensors, grad_tensors, retain_graph, create_graph, grad_variables, inputs)\u001b[0m\n\u001b[0;32m    154\u001b[0m     Variable._execution_engine.run_backward(\n\u001b[0;32m    155\u001b[0m         \u001b[0mtensors\u001b[0m\u001b[1;33m,\u001b[0m \u001b[0mgrad_tensors_\u001b[0m\u001b[1;33m,\u001b[0m \u001b[0mretain_graph\u001b[0m\u001b[1;33m,\u001b[0m \u001b[0mcreate_graph\u001b[0m\u001b[1;33m,\u001b[0m \u001b[0minputs\u001b[0m\u001b[1;33m,\u001b[0m\u001b[1;33m\u001b[0m\u001b[1;33m\u001b[0m\u001b[0m\n\u001b[1;32m--> 156\u001b[1;33m         allow_unreachable=True, accumulate_grad=True)  # allow_unreachable flag\n\u001b[0m\u001b[0;32m    157\u001b[0m \u001b[1;33m\u001b[0m\u001b[0m\n\u001b[0;32m    158\u001b[0m \u001b[1;33m\u001b[0m\u001b[0m\n",
      "\u001b[1;31mRuntimeError\u001b[0m: one of the variables needed for gradient computation has been modified by an inplace operation: [torch.FloatTensor [16384, 512]], which is output 0 of AsStridedBackward0, is at version 3; expected version 2 instead. Hint: the backtrace further above shows the operation that failed to compute its gradient. The variable in question was changed in there or anywhere later. Good luck!"
     ]
    }
   ],
   "source": [
    "img_lists = []\n",
    "G_losses = []\n",
    "D_losses = []\n",
    "iters = 0\n",
    "from torch.autograd import Variable\n",
    "\n",
    "writer = SummaryWriter(log_dir=TENSORBOARD_LOGDIR)  # tensorboard summary\n",
    "\n",
    "\n",
    "\n",
    "for epoch in tqdm(range(N_EPOCHS)):\n",
    "    print(f'Epoch {epoch+1}/{N_EPOCHS}')\n",
    "    for (img, seg) in tqdm(dataloader):\n",
    "        img = img.to(device)\n",
    "        seg = seg.to(device)\n",
    "\n",
    "        seg=seg.float()\n",
    "\n",
    "        \n",
    "        fake_img, mu, logvar  = vae(img,seg) #remove seg if you want to train without labels\n",
    "        \n",
    "        pred_fake = dis(fake_img,seg) \n",
    "        \n",
    "\n",
    "        # Real Detection and Loss\n",
    "       \n",
    "        pred_real = dis(img,seg)\n",
    "    \n",
    "        \n",
    "        \n",
    "        \n",
    "        loss_enc = VAE_GAN_Spade_Giulia.vae_loss(img, fake_img, mu, logvar)\n",
    "        \n",
    "\n",
    "\n",
    "        opt_enc.zero_grad()\n",
    "\n",
    "        loss_enc.backward(retain_graph=True)\n",
    "\n",
    "        opt_enc.step()\n",
    "        \n",
    "        #torch.autograd.set_detect_anomaly(True)\n",
    "        \n",
    "        \n",
    "        loss_G =  generator_loss(pred_fake)+loss_enc\n",
    "        G_losses.append(loss_G.detach().cpu())\n",
    "        \n",
    "        opt_gen.zero_grad()\n",
    "        \n",
    "        loss_G.backward(retain_graph=True)\n",
    "        \n",
    "        opt_gen.step()\n",
    "\n",
    "    \n",
    "        \n",
    "\n",
    "\n",
    "\n",
    "\n",
    "\n",
    "        #dis.trainable=True\n",
    "       \n",
    "\n",
    "        loss_D = discriminator_loss(pred_real,pred_fake)\n",
    "        #loss_fake=adversarial_loss(pred_fake,seg)        \n",
    "        \n",
    "        D_losses.append(loss_D.detach().cpu())\n",
    "        \n",
    "        opt_dis.zero_grad()\n",
    "        loss_D.backward()\n",
    "        opt_dis.step()\n",
    "        \n",
    "        \n",
    "        \n",
    "        #dis.trainable = False\n",
    "        \n",
    "\n",
    "        \n",
    "        # if i%200 == 0:\n",
    "        #     print(\"Iteration {}/{} started\".format(i+1, len(dataloader)))\n",
    "    writer.add_scalar(\"Loss dis\", loss_D / len(dataloader), epoch)\n",
    "    writer.add_scalar(\"Loss gen\", loss_G / len(dataloader), epoch)  \n",
    "    scheduler.step()   \n",
    "    print(\"G_loss= \",loss_G, \" : D_Loss= \", loss_D)\n",
    "\n",
    "    \n",
    "    if (epoch + 1) % 1 == 0: #This is for the tensorboard\n",
    "        vae.generator().eval()\n",
    "        img_grid = make_grid(\n",
    "            torch.cat((fake_img[:5], img[:5])), nrow=5, padding=12, pad_value=-1\n",
    "        )\n",
    "        writer.add_image(\n",
    "            \"Real/fake_recon\",\n",
    "            np.clip(img_grid[0][np.newaxis], -1, 1) / 2 + 0.5,\n",
    "            epoch + 1,\n",
    "        )\n",
    "        \n",
    "    if epoch%2 == 0:\n",
    "        with torch.no_grad():\n",
    "            img_lists.append(fake_img.detach().cpu().numpy())\n",
    "    #Plot results between epochs to see if it generates something\n",
    "    if epoch%2==0:\n",
    "        for (num,_) in enumerate(img_grid):\n",
    "            print(num)\n",
    "            img = img_grid[num].squeeze()\n",
    "            #label = train_labels[num].squeeze()\n",
    "            plt.imshow(img, cmap=\"gray\")\n",
    "            #plt.imshow(label,cmap='gray',alpha=0.3)\n",
    "            plt.show()\n",
    "    saveModels()\n",
    "                \n",
    "    iters+=1\n"
   ]
  },
  {
   "cell_type": "code",
   "execution_count": null,
   "metadata": {},
   "outputs": [],
   "source": [
    "#Load tensorboard\n",
    "%load_ext tensorboard\n",
    "%tensorboard --logdir='GAN_runs'"
   ]
  },
  {
   "cell_type": "code",
   "execution_count": null,
   "metadata": {},
   "outputs": [],
   "source": [
    "# # training loop\n",
    "# writer = SummaryWriter(log_dir=TENSORBOARD_LOGDIR)  # tensorboard summary\n",
    "# loss_train=[]\n",
    "# img_list_vae=[]\n",
    "# for epoch in range(N_EPOCHS):\n",
    "#     current_train_loss = 0.0\n",
    "#     current_valid_loss = 0.0\n",
    "\n",
    "#     for x_real, mask in tqdm(dataloader,position=0):\n",
    "#         # needed to zero gradients in each iteration\n",
    "#         optimizer.zero_grad()\n",
    "#         x_recon, mu, logvar = vae_model(x_real,mask)  # forward pass\n",
    "#         loss = vae.vae_loss(x_real, x_recon, mu, logvar)\n",
    "#         loss_train.append(loss)\n",
    "#         current_train_loss += loss.item()\n",
    "#         loss.backward()  # backpropagate loss\n",
    "#         optimizer.step()  # update weights\n",
    "\n",
    "#     # write to tensorboard log\n",
    "#     print(\"train loss= \", loss_train[epoch])\n",
    "#     writer.add_scalar(\"Loss/train\", loss_train[epoch], epoch)\n",
    "\n",
    "#     scheduler.step()  # step the learning step scheduler\n",
    "\n",
    "#     #save examples of real/fake images\n",
    "#     if (epoch + 1) % 1 == 0:\n",
    "#         vae_model.eval()\n",
    "#         img_grid = make_grid(\n",
    "#             torch.cat((x_recon[:5], x_real[:5])), nrow=5, padding=12, pad_value=-1\n",
    "#         )\n",
    "#         writer.add_image(\n",
    "#             \"Real/fake_recon\",\n",
    "#             np.clip(img_grid[0][np.newaxis], -1, 1) / 2 + 0.5,\n",
    "#             epoch + 1,\n",
    "#         )\n",
    "\n",
    "#         noise = torch.randn(32, Z_DIM)\n",
    "#         image_samples = vae_model.generator(noise,mask)\n",
    "#         img_grid = make_grid(\n",
    "#             torch.cat((image_samples[:5], image_samples[5:])),\n",
    "#             nrow=5,\n",
    "#             padding=12,\n",
    "#             pad_value=-1,\n",
    "#         )\n",
    "#         writer.add_image(\n",
    "#             \"Samples\",\n",
    "#             np.clip(img_grid[0][np.newaxis], -1, 1) / 2 + 0.5,\n",
    "#             epoch + 1,\n",
    "#         )\n",
    "#     if epoch%2 == 0:\n",
    "#         with torch.no_grad():\n",
    "#             img_list_vae.append(image_samples.detach().cpu().numpy())\n",
    "#     #Plot results between epochs to see if it generates something\n",
    "#     if epoch%2==0:\n",
    "#         for i in range(25):\n",
    "#             plt.subplot(5, 5, i+1)\n",
    "#             img=img_list_vae[0].squeeze()\n",
    "#             #print(img.shape)\n",
    "#             plt.imshow(img[i], interpolation='nearest', cmap='gray_r')\n",
    "#             plt.axis('off')\n",
    "#         plt.tight_layout()\n",
    "#         plt.suptitle('Epoch {}'.format(epoch))\n",
    "#         plt.show()\n",
    "#         saveModels(epoch)\n",
    "\n",
    "#     vae_model.train()\n",
    "\n",
    "\n",
    "# torch.save(vae_model.state_dict(), CHECKPOINTS_DIR / \"vae_model.pth\")"
   ]
  },
  {
   "cell_type": "code",
   "execution_count": null,
   "metadata": {},
   "outputs": [],
   "source": [
    "\n",
    "%load_ext tensorboard\n",
    "%tensorboard --logdir='vae_sp'"
   ]
  },
  {
   "cell_type": "code",
   "execution_count": null,
   "metadata": {},
   "outputs": [],
   "source": [
    "import torchvision.transforms as transforms\n",
    "img_size=[8,8]\n",
    "mr_image_list=[]\n",
    "\n",
    "\n",
    "img_transform = transforms.Compose(\n",
    "    [\n",
    "        transforms.ToPILImage(),\n",
    "        transforms.CenterCrop(64),\n",
    "        transforms.Resize(img_size),\n",
    "        transforms.ToTensor(),\n",
    "    ]\n",
    ")\n",
    "# standardise intensities based on mean and std deviation\n",
    "train_data_mean = np.mean(mr_image_list)\n",
    "train_data_std = np.std(mr_image_list)\n",
    "norm_transform = transforms.Normalize(\n",
    "    train_data_mean, train_data_std\n",
    ")"
   ]
  }
 ],
 "metadata": {
  "kernelspec": {
   "display_name": "Python 3",
   "language": "python",
   "name": "python3"
  },
  "language_info": {
   "codemirror_mode": {
    "name": "ipython",
    "version": 3
   },
   "file_extension": ".py",
   "mimetype": "text/x-python",
   "name": "python",
   "nbconvert_exporter": "python",
   "pygments_lexer": "ipython3",
   "version": "3.6.13"
  }
 },
 "nbformat": 4,
 "nbformat_minor": 2
}
