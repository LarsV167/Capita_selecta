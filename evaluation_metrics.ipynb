{
 "cells": [
  {
   "cell_type": "code",
   "execution_count": 42,
   "id": "6d0d0cc8",
   "metadata": {},
   "outputs": [],
   "source": [
    "import elastix \n",
    "import imageio.v2 as imageio\n",
    "import matplotlib.pyplot as plt\n",
    "import os\n",
    "import SimpleITK as sitk\n",
    "import numpy as np\n",
    "import nibabel as nib"
   ]
  },
  {
   "cell_type": "markdown",
   "id": "08b02206",
   "metadata": {},
   "source": [
    "# DICE score, Hausdorff distance and Jacobian"
   ]
  },
  {
   "cell_type": "code",
   "execution_count": 90,
   "id": "8bba69cf",
   "metadata": {},
   "outputs": [],
   "source": [
    "# Set paths\n",
    "ELASTIX_PATH = 'C:/Users/20191679/Documents/Master/CS_image_analysis/elastix.exe'\n",
    "el = elastix.ElastixInterface(elastix_path=ELASTIX_PATH)\n",
    "TRANSFORMIX_PATH = 'C:/Users/20191679/Documents/Master/CS_image_analysis/transformix.exe'\n",
    "filepath_data = r'C:\\\\Users\\20191679\\Documents\\Master\\CS_image_analysis\\TrainingData'"
   ]
  },
  {
   "cell_type": "code",
   "execution_count": 91,
   "id": "e33f4304",
   "metadata": {},
   "outputs": [
    {
     "name": "stdout",
     "output_type": "stream",
     "text": [
      "C:\\\\Users\\20191679\\Documents\\Master\\CS_image_analysis\\TrainingData\\p107\\prostaat.mhd\n"
     ]
    }
   ],
   "source": [
    "# Set paths of images on which to evaluate\n",
    "transformed_mask = filepath_data+'\\\\p102\\\\prostaat.mhd'\n",
    "ground_truth = os.path.join(filepath_data,'p107','prostaat.mhd')\n",
    "print(ground_truth)"
   ]
  },
  {
   "cell_type": "code",
   "execution_count": 84,
   "id": "5ef7a70e",
   "metadata": {},
   "outputs": [
    {
     "data": {
      "image/png": "[encoded data removed]",
      "text/plain": [
       "<Figure size 700x500 with 2 Axes>"
      ]
     },
     "metadata": {},
     "output_type": "display_data"
    }
   ],
   "source": [
    "# Read and inspect images\n",
    "readable_transformed_mask = imageio.imread(transformed_mask)\n",
    "readable_ground_truth = imageio.imread(ground_truth)\n",
    "for i in range(50,51):\n",
    "    fig, ax = plt.subplots(1, 2, figsize=(7, 5))\n",
    "    ax[0].imshow(readable_transformed_mask[i,:,:], cmap='gray')\n",
    "    ax[0].set_title('Transformed image mask')\n",
    "    ax[1].imshow(readable_ground_truth[i,:,:], cmap='gray')\n",
    "    ax[1].set_title('Ground truth mask')\n",
    "    plt.show()"
   ]
  },
  {
   "cell_type": "code",
   "execution_count": 85,
   "id": "33646d06",
   "metadata": {
    "scrolled": true
   },
   "outputs": [
    {
     "data": {
      "text/plain": [
       "0.34168448013324393"
      ]
     },
     "execution_count": 85,
     "metadata": {},
     "output_type": "execute_result"
    }
   ],
   "source": [
    "# Calculate DICE score\n",
    "def diceFunction(im1, im2):\n",
    "    '''\n",
    "    Compute the dice score between two input images or volumes. Note that we use a smoothing factor of 1.\n",
    "    :param im1: Image 1\n",
    "    :param im2: Image 2\n",
    "    :return: Dice score\n",
    "    '''\n",
    "    im1 = np.asarray(im1).astype(bool)\n",
    "    im2 = np.asarray(im2).astype(bool)\n",
    "\n",
    "    if im1.shape != im2.shape:\n",
    "        raise ValueError(\"Shape mismatch: im1 and im2 must have the same shape.\")\n",
    "\n",
    "    # Compute Dice coefficient\n",
    "    intersection = np.logical_and(im1, im2)\n",
    "\n",
    "    return (2. * intersection.sum() ) / (im1.sum() + im2.sum())\n",
    "dice_score= diceFunction(readable_transformed_mask, readable_ground_truth)\n",
    "\n",
    "dice_score"
   ]
  },
  {
   "cell_type": "code",
   "execution_count": 103,
   "id": "a418049d",
   "metadata": {},
   "outputs": [
    {
     "name": "stdout",
     "output_type": "stream",
     "text": [
      "{'avgHausdorff': 7.142422983558485, 'Hausdorff': 45.088801270381985, 'hausdorff_95': 26.938513469696034}\n"
     ]
    }
   ],
   "source": [
    "# Compute Hausdorff distances (and other metrics)\n",
    "\n",
    "def computeQualityMeasures(lP,lT):\n",
    "    \n",
    "    quality=dict()\n",
    "    labelPred=sitk.GetImageFromArray(lP, isVector=False)\n",
    "    labelTrue=sitk.GetImageFromArray(lT, isVector=False)\n",
    "    \n",
    "    #Hausdorff Distance\n",
    "    hausdorffcomputer=sitk.HausdorffDistanceImageFilter()\n",
    "    hausdorffcomputer.Execute(labelTrue>0.5,labelPred>0.5)\n",
    "    quality[\"avgHausdorff\"]=hausdorffcomputer.GetAverageHausdorffDistance()\n",
    "    quality[\"Hausdorff\"]=hausdorffcomputer.GetHausdorffDistance()\n",
    "\n",
    "    \n",
    "    ##Dice,Jaccard,Volume Similarity..\n",
    "    #dicecomputer.Execute(labelTrue>0.5,labelPred>0.5)\n",
    "    #quality[\"dice\"]=dicecomputer.GetDiceCoefficient()\n",
    "    #quality[\"volume_similarity\"]=dicecomputer.GetVolumeSimilarity()\n",
    "    #quality[\"false_negative\"]=dicecomputer.GetFalseNegativeError()\n",
    "    #quality[\"false_positive\"]=dicecomputer.GetFalsePositiveError()\n",
    "    \n",
    "    #Surface distance measures\n",
    "    label = 1\n",
    "    ref_distance_map=sitk.Abs(sitk.SignedMaurerDistanceMap(labelTrue>0.5,squaredDistance=False))\n",
    "    ref_surface=sitk.LabelContour(labelTrue>0.5)\n",
    "    statistics_image_filter=sitk.StatisticsImageFilter()\n",
    "    statistics_image_filter.Execute(labelTrue>0.5)\n",
    "    num_ref_surface_pixels=int(statistics_image_filter.GetSum())\n",
    "\n",
    "    seg_distance_map=sitk.Abs(sitk.SignedMaurerDistanceMap(labelPred>0.5,squaredDistance=False))\n",
    "    seg_surface=sitk.LabelContour(labelPred>0.5)\n",
    "    seg2ref_distance_map=ref_distance_map*sitk.Cast(seg_surface,sitk.sitkFloat32)\n",
    "    ref2seg_distance_map=seg_distance_map*sitk.Cast(ref_surface,sitk.sitkFloat32)\n",
    "    \n",
    "    statistics_image_filter.Execute(labelPred>0.5)\n",
    "    num_seg_surface_pixels=int(statistics_image_filter.GetSum())\n",
    "\n",
    "    seg2ref_distance_map_arr=sitk.GetArrayViewFromImage(seg2ref_distance_map)\n",
    "    seg2ref_distances=list(seg2ref_distance_map_arr[seg2ref_distance_map_arr!=0])\n",
    "    seg2ref_distances=seg2ref_distances+list(np.zeros(num_seg_surface_pixels-len(seg2ref_distances)))\n",
    "    ref2seg_distance_map_arr=sitk.GetArrayViewFromImage(ref2seg_distance_map)\n",
    "    ref2seg_distances=list(ref2seg_distance_map_arr[ref2seg_distance_map_arr!=0])\n",
    "    ref2seg_distances=ref2seg_distances+list(np.zeros(num_ref_surface_pixels-len(ref2seg_distances)))\n",
    "\n",
    "    all_surface_distances=seg2ref_distances+ref2seg_distances\n",
    "    #quality[\"mean_surface_distance\"]=np.mean(all_surface_distances)\n",
    "    #quality[\"median_surface_distance\"]=np.median(all_surface_distances)\n",
    "    #quality[\"std_surface_distance\"]=np.std(all_surface_distances)\n",
    "    #quality[\"max_surface_distance\"]=np.max(all_surface_distances)\n",
    "    \n",
    "    \n",
    "    ### Find the distances to surface points of the contour.  Calculate in both directions         \n",
    "    dist_seg = sitk.GetArrayViewFromImage(seg_distance_map)[sitk.GetArrayViewFromImage(ref_surface)==1]\n",
    "    dist_ref = sitk.GetArrayViewFromImage(ref_distance_map)[sitk.GetArrayViewFromImage(seg_surface)==1]\n",
    "\n",
    "\n",
    "    ### Find the 95% Distance for each direction and average        \n",
    "    quality['hausdorff_95']= (np.percentile(dist_ref, 95) + np.percentile(dist_seg, 95)) / 2.0\n",
    "\n",
    "    return quality\n",
    "    \n",
    "quality = computeQualityMeasures(readable_ground_truth, readable_transformed_mask)\n",
    "print(quality)\n"
   ]
  },
  {
   "cell_type": "code",
   "execution_count": 72,
   "id": "3b8c802a",
   "metadata": {},
   "outputs": [
    {
     "ename": "NameError",
     "evalue": "name 'transform_path' is not defined",
     "output_type": "error",
     "traceback": [
      "\u001b[1;31m---------------------------------------------------------------------------\u001b[0m",
      "\u001b[1;31mNameError\u001b[0m                                 Traceback (most recent call last)",
      "\u001b[1;32m~\\AppData\\Local\\Temp\\ipykernel_21284\\3496917689.py\u001b[0m in \u001b[0;36m<module>\u001b[1;34m\u001b[0m\n\u001b[0;32m      1\u001b[0m \u001b[1;31m# Make a new transformix object tr with the CORRECT PATH to transformix\u001b[0m\u001b[1;33m\u001b[0m\u001b[1;33m\u001b[0m\u001b[0m\n\u001b[1;32m----> 2\u001b[1;33m tr = elastix.TransformixInterface(parameters=transform_path,\n\u001b[0m\u001b[0;32m      3\u001b[0m                                   transformix_path=TRANSFORMIX_PATH)\n\u001b[0;32m      4\u001b[0m \u001b[1;33m\u001b[0m\u001b[0m\n\u001b[0;32m      5\u001b[0m \u001b[1;31m# Transform a new image with the transformation parameters\u001b[0m\u001b[1;33m\u001b[0m\u001b[1;33m\u001b[0m\u001b[0m\n",
      "\u001b[1;31mNameError\u001b[0m: name 'transform_path' is not defined"
     ]
    }
   ],
   "source": [
    "# Not ready yet\n",
    "\n",
    "# Make a new transformix object tr with the CORRECT PATH to transformix\n",
    "tr = elastix.TransformixInterface(parameters=transform_path,\n",
    "                                  transformix_path=TRANSFORMIX_PATH)\n",
    "\n",
    "# Transform a new image with the transformation parameters\n",
    "transformed_image_path = tr.transform_image(moving_image_path, output_dir=r'results')\n",
    "\n",
    "# Get the Jacobian matrix\n",
    "jacobian_matrix_path = tr.jacobian_matrix(output_dir=r'results')\n",
    "\n",
    "# Get the Jacobian determinant\n",
    "jacobian_determinant_path = tr.jacobian_determinant(output_dir=r'results')\n",
    "\n",
    "# Get the full deformation field\n",
    "deformation_field_path = tr.deformation_field(output_dir=r'results')\n",
    "\n",
    "# Add a plot of the Jacobian determinant (in this case, the file is a tiff file)\n",
    "ax[3].imshow(imageio.imread(jacobian_determinant_path.replace('dcm', 'tiff')))\n",
    "ax[3].set_title('Jacobian\\ndeterminant')"
   ]
  },
  {
   "cell_type": "code",
   "execution_count": null,
   "id": "ba0c1bd2",
   "metadata": {},
   "outputs": [],
   "source": []
  }
 ],
 "metadata": {
  "kernelspec": {
   "display_name": "Python 3 (ipykernel)",
   "language": "python",
   "name": "python3"
  },
  "language_info": {
   "codemirror_mode": {
    "name": "ipython",
    "version": 3
   },
   "file_extension": ".py",
   "mimetype": "text/x-python",
   "name": "python",
   "nbconvert_exporter": "python",
   "pygments_lexer": "ipython3",
   "version": "3.10.9"
  }
 },
 "nbformat": 4,
 "nbformat_minor": 5
}
